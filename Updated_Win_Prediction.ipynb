{
 "cells": [
  {
   "cell_type": "markdown",
   "id": "89fda378",
   "metadata": {},
   "source": [
    "#                                       WIN Prediction Analytics\n"
   ]
  },
  {
   "cell_type": "markdown",
   "id": "fba06459",
   "metadata": {},
   "source": [
    "##  Dependencies"
   ]
  },
  {
   "cell_type": "code",
   "execution_count": 71,
   "id": "57340a6b",
   "metadata": {},
   "outputs": [],
   "source": [
    "import pandas as pd\n",
    "import numpy as np\n",
    "from sklearn import linear_model\n",
    "import matplotlib.pyplot as plt\n",
    "import matplotlib as mpl\n",
    "import os\n",
    "import warnings\n",
    "warnings.filterwarnings('ignore')"
   ]
  },
  {
   "cell_type": "markdown",
   "id": "09d7ff78",
   "metadata": {},
   "source": [
    "##  Reading in the dataset "
   ]
  },
  {
   "cell_type": "code",
   "execution_count": 72,
   "id": "81c820f7",
   "metadata": {},
   "outputs": [],
   "source": [
    "os.chdir(\"C:\\Python\")"
   ]
  },
  {
   "cell_type": "code",
   "execution_count": 73,
   "id": "72bbf930",
   "metadata": {},
   "outputs": [],
   "source": [
    "df = pd.read_csv('Win_Prediction_Data.csv')"
   ]
  },
  {
   "cell_type": "code",
   "execution_count": 74,
   "id": "1c692217",
   "metadata": {},
   "outputs": [
    {
     "data": {
      "text/html": [
       "<div>\n",
       "<style scoped>\n",
       "    .dataframe tbody tr th:only-of-type {\n",
       "        vertical-align: middle;\n",
       "    }\n",
       "\n",
       "    .dataframe tbody tr th {\n",
       "        vertical-align: top;\n",
       "    }\n",
       "\n",
       "    .dataframe thead th {\n",
       "        text-align: right;\n",
       "    }\n",
       "</style>\n",
       "<table border=\"1\" class=\"dataframe\">\n",
       "  <thead>\n",
       "    <tr style=\"text-align: right;\">\n",
       "      <th></th>\n",
       "      <th>Client Category</th>\n",
       "      <th>Solution Type</th>\n",
       "      <th>Deal Date</th>\n",
       "      <th>Sector</th>\n",
       "      <th>Location</th>\n",
       "      <th>VP Name</th>\n",
       "      <th>Manager Name</th>\n",
       "      <th>Deal Cost</th>\n",
       "      <th>Deal Status Code</th>\n",
       "    </tr>\n",
       "  </thead>\n",
       "  <tbody>\n",
       "    <tr>\n",
       "      <th>0</th>\n",
       "      <td>Telecom</td>\n",
       "      <td>Solution 7</td>\n",
       "      <td>27-Mar-12</td>\n",
       "      <td>Sector 24</td>\n",
       "      <td>L5</td>\n",
       "      <td>Ekta Zutshi</td>\n",
       "      <td>Gopa Trilochana</td>\n",
       "      <td>150000.00</td>\n",
       "      <td>Won</td>\n",
       "    </tr>\n",
       "    <tr>\n",
       "      <th>1</th>\n",
       "      <td>Telecom</td>\n",
       "      <td>Solution 7</td>\n",
       "      <td>25-Sep-12</td>\n",
       "      <td>Sector 24</td>\n",
       "      <td>L5</td>\n",
       "      <td>Ekta Zutshi</td>\n",
       "      <td>Gopa Trilochana</td>\n",
       "      <td>744705.88</td>\n",
       "      <td>Won</td>\n",
       "    </tr>\n",
       "    <tr>\n",
       "      <th>2</th>\n",
       "      <td>Internal</td>\n",
       "      <td>Solution 59</td>\n",
       "      <td>01-Aug-11</td>\n",
       "      <td>Sector 20</td>\n",
       "      <td>Others</td>\n",
       "      <td>Ekta Zutshi</td>\n",
       "      <td>Russell Dahlen</td>\n",
       "      <td>60000.00</td>\n",
       "      <td>Lost</td>\n",
       "    </tr>\n",
       "    <tr>\n",
       "      <th>3</th>\n",
       "      <td>Internal</td>\n",
       "      <td>Solution 59</td>\n",
       "      <td>28-Apr-11</td>\n",
       "      <td>Sector 20</td>\n",
       "      <td>Others</td>\n",
       "      <td>Ekta Zutshi</td>\n",
       "      <td>Russell Dahlen</td>\n",
       "      <td>60000.00</td>\n",
       "      <td>Lost</td>\n",
       "    </tr>\n",
       "    <tr>\n",
       "      <th>4</th>\n",
       "      <td>Internal</td>\n",
       "      <td>Solution 32</td>\n",
       "      <td>03-Jun-11</td>\n",
       "      <td>Sector 20</td>\n",
       "      <td>Others</td>\n",
       "      <td>Ekta Zutshi</td>\n",
       "      <td>Russell Dahlen</td>\n",
       "      <td>80882.35</td>\n",
       "      <td>Lost</td>\n",
       "    </tr>\n",
       "    <tr>\n",
       "      <th>5</th>\n",
       "      <td>Internal</td>\n",
       "      <td>Solution 32</td>\n",
       "      <td>24-May-11</td>\n",
       "      <td>Sector 20</td>\n",
       "      <td>Others</td>\n",
       "      <td>Ekta Zutshi</td>\n",
       "      <td>Russell Dahlen</td>\n",
       "      <td>80882.35</td>\n",
       "      <td>Lost</td>\n",
       "    </tr>\n",
       "    <tr>\n",
       "      <th>6</th>\n",
       "      <td>Internal</td>\n",
       "      <td>Solution 59</td>\n",
       "      <td>03-Nov-11</td>\n",
       "      <td>Sector 2</td>\n",
       "      <td>L10</td>\n",
       "      <td>Mervin Harwood</td>\n",
       "      <td>rahul sharma</td>\n",
       "      <td>526176.47</td>\n",
       "      <td>Won</td>\n",
       "    </tr>\n",
       "    <tr>\n",
       "      <th>7</th>\n",
       "      <td>Govt</td>\n",
       "      <td>Solution 7</td>\n",
       "      <td>17-Sep-12</td>\n",
       "      <td>Sector 13</td>\n",
       "      <td>L5</td>\n",
       "      <td>Sargar Deep Rao</td>\n",
       "      <td>Vidur Hukle</td>\n",
       "      <td>409705.88</td>\n",
       "      <td>Lost</td>\n",
       "    </tr>\n",
       "    <tr>\n",
       "      <th>8</th>\n",
       "      <td>Consumer Good</td>\n",
       "      <td>Solution 42</td>\n",
       "      <td>11-Apr-12</td>\n",
       "      <td>Sector 12</td>\n",
       "      <td>L10</td>\n",
       "      <td>Lilli Storrs</td>\n",
       "      <td>Md. Daud</td>\n",
       "      <td>1032352.94</td>\n",
       "      <td>Won</td>\n",
       "    </tr>\n",
       "    <tr>\n",
       "      <th>9</th>\n",
       "      <td>Internal</td>\n",
       "      <td>Solution 59</td>\n",
       "      <td>17-Nov-11</td>\n",
       "      <td>Sector 20</td>\n",
       "      <td>Others</td>\n",
       "      <td>Sargar Deep Rao</td>\n",
       "      <td>Hardeep Suksma</td>\n",
       "      <td>558823.53</td>\n",
       "      <td>Lost</td>\n",
       "    </tr>\n",
       "  </tbody>\n",
       "</table>\n",
       "</div>"
      ],
      "text/plain": [
       "  Client Category Solution Type  Deal Date     Sector Location  \\\n",
       "0         Telecom    Solution 7  27-Mar-12  Sector 24       L5   \n",
       "1         Telecom    Solution 7  25-Sep-12  Sector 24       L5   \n",
       "2        Internal   Solution 59  01-Aug-11  Sector 20   Others   \n",
       "3        Internal   Solution 59  28-Apr-11  Sector 20   Others   \n",
       "4        Internal   Solution 32  03-Jun-11  Sector 20   Others   \n",
       "5        Internal   Solution 32  24-May-11  Sector 20   Others   \n",
       "6        Internal   Solution 59  03-Nov-11   Sector 2      L10   \n",
       "7            Govt    Solution 7  17-Sep-12  Sector 13       L5   \n",
       "8   Consumer Good   Solution 42  11-Apr-12  Sector 12      L10   \n",
       "9        Internal   Solution 59  17-Nov-11  Sector 20   Others   \n",
       "\n",
       "           VP Name     Manager Name   Deal Cost Deal Status Code  \n",
       "0      Ekta Zutshi  Gopa Trilochana   150000.00              Won  \n",
       "1      Ekta Zutshi  Gopa Trilochana   744705.88              Won  \n",
       "2      Ekta Zutshi   Russell Dahlen    60000.00             Lost  \n",
       "3      Ekta Zutshi   Russell Dahlen    60000.00             Lost  \n",
       "4      Ekta Zutshi   Russell Dahlen    80882.35             Lost  \n",
       "5      Ekta Zutshi   Russell Dahlen    80882.35             Lost  \n",
       "6   Mervin Harwood     rahul sharma   526176.47              Won  \n",
       "7  Sargar Deep Rao      Vidur Hukle   409705.88             Lost  \n",
       "8     Lilli Storrs         Md. Daud  1032352.94              Won  \n",
       "9  Sargar Deep Rao   Hardeep Suksma   558823.53             Lost  "
      ]
     },
     "execution_count": 74,
     "metadata": {},
     "output_type": "execute_result"
    }
   ],
   "source": [
    "df.head(10)"
   ]
  },
  {
   "cell_type": "markdown",
   "id": "6ac090a6",
   "metadata": {},
   "source": [
    "## Exploratory Data Analysis (EDA)"
   ]
  },
  {
   "cell_type": "code",
   "execution_count": 75,
   "id": "a31ddb25",
   "metadata": {},
   "outputs": [
    {
     "name": "stdout",
     "output_type": "stream",
     "text": [
      "<class 'pandas.core.frame.DataFrame'>\n",
      "RangeIndex: 10061 entries, 0 to 10060\n",
      "Data columns (total 9 columns):\n",
      " #   Column            Non-Null Count  Dtype  \n",
      "---  ------            --------------  -----  \n",
      " 0   Client Category   9982 non-null   object \n",
      " 1   Solution Type     10061 non-null  object \n",
      " 2   Deal Date         10061 non-null  object \n",
      " 3   Sector            10061 non-null  object \n",
      " 4   Location          10061 non-null  object \n",
      " 5   VP Name           10061 non-null  object \n",
      " 6   Manager Name      10061 non-null  object \n",
      " 7   Deal Cost         10061 non-null  float64\n",
      " 8   Deal Status Code  10061 non-null  object \n",
      "dtypes: float64(1), object(8)\n",
      "memory usage: 707.5+ KB\n"
     ]
    }
   ],
   "source": [
    "df.info()                              # data set details"
   ]
  },
  {
   "cell_type": "code",
   "execution_count": 76,
   "id": "bd42dd15",
   "metadata": {},
   "outputs": [
    {
     "data": {
      "text/html": [
       "<div>\n",
       "<style scoped>\n",
       "    .dataframe tbody tr th:only-of-type {\n",
       "        vertical-align: middle;\n",
       "    }\n",
       "\n",
       "    .dataframe tbody tr th {\n",
       "        vertical-align: top;\n",
       "    }\n",
       "\n",
       "    .dataframe thead th {\n",
       "        text-align: right;\n",
       "    }\n",
       "</style>\n",
       "<table border=\"1\" class=\"dataframe\">\n",
       "  <thead>\n",
       "    <tr style=\"text-align: right;\">\n",
       "      <th></th>\n",
       "      <th>Deal Cost</th>\n",
       "    </tr>\n",
       "  </thead>\n",
       "  <tbody>\n",
       "    <tr>\n",
       "      <th>count</th>\n",
       "      <td>1.006100e+04</td>\n",
       "    </tr>\n",
       "    <tr>\n",
       "      <th>mean</th>\n",
       "      <td>7.668969e+05</td>\n",
       "    </tr>\n",
       "    <tr>\n",
       "      <th>std</th>\n",
       "      <td>1.619894e+06</td>\n",
       "    </tr>\n",
       "    <tr>\n",
       "      <th>min</th>\n",
       "      <td>0.000000e+00</td>\n",
       "    </tr>\n",
       "    <tr>\n",
       "      <th>25%</th>\n",
       "      <td>1.897059e+05</td>\n",
       "    </tr>\n",
       "    <tr>\n",
       "      <th>50%</th>\n",
       "      <td>3.823529e+05</td>\n",
       "    </tr>\n",
       "    <tr>\n",
       "      <th>75%</th>\n",
       "      <td>7.647059e+05</td>\n",
       "    </tr>\n",
       "    <tr>\n",
       "      <th>max</th>\n",
       "      <td>3.676471e+07</td>\n",
       "    </tr>\n",
       "  </tbody>\n",
       "</table>\n",
       "</div>"
      ],
      "text/plain": [
       "          Deal Cost\n",
       "count  1.006100e+04\n",
       "mean   7.668969e+05\n",
       "std    1.619894e+06\n",
       "min    0.000000e+00\n",
       "25%    1.897059e+05\n",
       "50%    3.823529e+05\n",
       "75%    7.647059e+05\n",
       "max    3.676471e+07"
      ]
     },
     "execution_count": 76,
     "metadata": {},
     "output_type": "execute_result"
    }
   ],
   "source": [
    "df.describe()                           # describing the data set"
   ]
  },
  {
   "cell_type": "code",
   "execution_count": 77,
   "id": "25887ac9",
   "metadata": {},
   "outputs": [
    {
     "data": {
      "text/plain": [
       "Client Category     79\n",
       "Solution Type        0\n",
       "Deal Date            0\n",
       "Sector               0\n",
       "Location             0\n",
       "VP Name              0\n",
       "Manager Name         0\n",
       "Deal Cost            0\n",
       "Deal Status Code     0\n",
       "dtype: int64"
      ]
     },
     "execution_count": 77,
     "metadata": {},
     "output_type": "execute_result"
    }
   ],
   "source": [
    "df.isnull().sum()                      # check the missing values"
   ]
  },
  {
   "cell_type": "code",
   "execution_count": 78,
   "id": "e8cd2e9d",
   "metadata": {},
   "outputs": [
    {
     "data": {
      "text/plain": [
       "Client Category       41\n",
       "Solution Type         67\n",
       "Deal Date           2555\n",
       "Sector                25\n",
       "Location              13\n",
       "VP Name               43\n",
       "Manager Name         278\n",
       "Deal Cost           1469\n",
       "Deal Status Code       2\n",
       "dtype: int64"
      ]
     },
     "execution_count": 78,
     "metadata": {},
     "output_type": "execute_result"
    }
   ],
   "source": [
    "df.nunique()                           # checking unique values in each column"
   ]
  },
  {
   "cell_type": "code",
   "execution_count": 1,
   "id": "d6e25b18",
   "metadata": {},
   "outputs": [
    {
     "ename": "NameError",
     "evalue": "name 'df' is not defined",
     "output_type": "error",
     "traceback": [
      "\u001b[1;31m---------------------------------------------------------------------------\u001b[0m",
      "\u001b[1;31mNameError\u001b[0m                                 Traceback (most recent call last)",
      "Input \u001b[1;32mIn [1]\u001b[0m, in \u001b[0;36m<cell line: 1>\u001b[1;34m()\u001b[0m\n\u001b[1;32m----> 1\u001b[0m win1\u001b[38;5;241m=\u001b[39m \u001b[43mdf\u001b[49m\u001b[38;5;241m.\u001b[39mdropna()\n",
      "\u001b[1;31mNameError\u001b[0m: name 'df' is not defined"
     ]
    }
   ],
   "source": [
    "win1= df.dropna()                      # dropping null values "
   ]
  },
  {
   "cell_type": "code",
   "execution_count": 80,
   "id": "6d20d2c4",
   "metadata": {
    "collapsed": true
   },
   "outputs": [
    {
     "data": {
      "text/plain": [
       "Client Category     0\n",
       "Solution Type       0\n",
       "Deal Date           0\n",
       "Sector              0\n",
       "Location            0\n",
       "VP Name             0\n",
       "Manager Name        0\n",
       "Deal Cost           0\n",
       "Deal Status Code    0\n",
       "dtype: int64"
      ]
     },
     "execution_count": 80,
     "metadata": {},
     "output_type": "execute_result"
    }
   ],
   "source": [
    "win1.isnull().sum()         "
   ]
  },
  {
   "cell_type": "code",
   "execution_count": 81,
   "id": "26c2cc12",
   "metadata": {},
   "outputs": [],
   "source": [
    "# Renaming the columns\n",
    "\n",
    "win1.rename(columns={\"Client Category\":\"Client_Category\",\"Solution Type\":\"Solution_Type\",\"Deal Date\":\"Deal_Date\",\"VP Name\":\"VP_Name\",\"Manager Name\":\"Manager_Name\",\"Deal Cost\":\"Deal_Cost\",\"Deal Status Code\":\"Deal_Status_Code\"},inplace= True)"
   ]
  },
  {
   "cell_type": "code",
   "execution_count": 82,
   "id": "608efc9b",
   "metadata": {
    "collapsed": true
   },
   "outputs": [
    {
     "data": {
      "text/plain": [
       "['Client_Category',\n",
       " 'Solution_Type',\n",
       " 'Deal_Date',\n",
       " 'Sector',\n",
       " 'Location',\n",
       " 'VP_Name',\n",
       " 'Manager_Name',\n",
       " 'Deal_Cost',\n",
       " 'Deal_Status_Code']"
      ]
     },
     "execution_count": 82,
     "metadata": {},
     "output_type": "execute_result"
    }
   ],
   "source": [
    "list(win1.columns)"
   ]
  },
  {
   "cell_type": "code",
   "execution_count": 83,
   "id": "c819e766",
   "metadata": {},
   "outputs": [],
   "source": [
    "win1.Deal_Status_Code.replace(to_replace=['Won'],value=['1'],inplace=True)    # Creating dummies (replacing Won with value 1) "
   ]
  },
  {
   "cell_type": "code",
   "execution_count": 84,
   "id": "b3f3288b",
   "metadata": {},
   "outputs": [],
   "source": [
    "win1.Deal_Status_Code.replace(to_replace=['Lost'],value=['0'],inplace=True)   # Creating dummies (replacing Lost with value 0)"
   ]
  },
  {
   "cell_type": "code",
   "execution_count": 85,
   "id": "072ff51b",
   "metadata": {
    "scrolled": true
   },
   "outputs": [
    {
     "data": {
      "text/plain": [
       "array(['1', '0'], dtype=object)"
      ]
     },
     "execution_count": 85,
     "metadata": {},
     "output_type": "execute_result"
    }
   ],
   "source": [
    "win1.Deal_Status_Code.unique()"
   ]
  },
  {
   "cell_type": "code",
   "execution_count": 86,
   "id": "3493f440",
   "metadata": {},
   "outputs": [
    {
     "data": {
      "text/plain": [
       "14"
      ]
     },
     "execution_count": 86,
     "metadata": {},
     "output_type": "execute_result"
    }
   ],
   "source": [
    "df.duplicated().sum()                # Finding the duplicates"
   ]
  },
  {
   "cell_type": "code",
   "execution_count": 87,
   "id": "37a3ed61",
   "metadata": {
    "collapsed": true
   },
   "outputs": [
    {
     "data": {
      "text/html": [
       "<div>\n",
       "<style scoped>\n",
       "    .dataframe tbody tr th:only-of-type {\n",
       "        vertical-align: middle;\n",
       "    }\n",
       "\n",
       "    .dataframe tbody tr th {\n",
       "        vertical-align: top;\n",
       "    }\n",
       "\n",
       "    .dataframe thead th {\n",
       "        text-align: right;\n",
       "    }\n",
       "</style>\n",
       "<table border=\"1\" class=\"dataframe\">\n",
       "  <thead>\n",
       "    <tr style=\"text-align: right;\">\n",
       "      <th></th>\n",
       "      <th>Client_Category</th>\n",
       "      <th>Solution_Type</th>\n",
       "      <th>Deal_Date</th>\n",
       "      <th>Sector</th>\n",
       "      <th>Location</th>\n",
       "      <th>VP_Name</th>\n",
       "      <th>Manager_Name</th>\n",
       "      <th>Deal_Cost</th>\n",
       "      <th>Deal_Status_Code</th>\n",
       "    </tr>\n",
       "  </thead>\n",
       "  <tbody>\n",
       "    <tr>\n",
       "      <th>3036</th>\n",
       "      <td>Domestic Public Bank</td>\n",
       "      <td>Solution 32</td>\n",
       "      <td>20-Mar-15</td>\n",
       "      <td>Sector 2</td>\n",
       "      <td>L7</td>\n",
       "      <td>Rosanna Maynez</td>\n",
       "      <td>Earline Langton</td>\n",
       "      <td>735294.12</td>\n",
       "      <td>0</td>\n",
       "    </tr>\n",
       "    <tr>\n",
       "      <th>3385</th>\n",
       "      <td>Tech</td>\n",
       "      <td>Solution 32</td>\n",
       "      <td>31-Jul-15</td>\n",
       "      <td>Sector 2</td>\n",
       "      <td>L10</td>\n",
       "      <td>Long Bergstrom</td>\n",
       "      <td>Emil Knudsen</td>\n",
       "      <td>235294.12</td>\n",
       "      <td>0</td>\n",
       "    </tr>\n",
       "    <tr>\n",
       "      <th>3880</th>\n",
       "      <td>Telecom</td>\n",
       "      <td>Solution 12</td>\n",
       "      <td>30-Aug-13</td>\n",
       "      <td>Sector 24</td>\n",
       "      <td>Others</td>\n",
       "      <td>Mangesh K. Singh</td>\n",
       "      <td>Sohil Kumar</td>\n",
       "      <td>588235.29</td>\n",
       "      <td>0</td>\n",
       "    </tr>\n",
       "    <tr>\n",
       "      <th>5037</th>\n",
       "      <td>Tech</td>\n",
       "      <td>Solution 13</td>\n",
       "      <td>08-May-12</td>\n",
       "      <td>Sector 23</td>\n",
       "      <td>L5</td>\n",
       "      <td>Sargar Deep Rao</td>\n",
       "      <td>Karan Dubey</td>\n",
       "      <td>0.00</td>\n",
       "      <td>0</td>\n",
       "    </tr>\n",
       "    <tr>\n",
       "      <th>7637</th>\n",
       "      <td>Govt</td>\n",
       "      <td>Solution 34</td>\n",
       "      <td>21-Feb-18</td>\n",
       "      <td>Sector 4</td>\n",
       "      <td>L10</td>\n",
       "      <td>Mervin Harwood</td>\n",
       "      <td>Akshay Sharma</td>\n",
       "      <td>602941.18</td>\n",
       "      <td>0</td>\n",
       "    </tr>\n",
       "    <tr>\n",
       "      <th>7705</th>\n",
       "      <td>Internal</td>\n",
       "      <td>Solution 9</td>\n",
       "      <td>06-Jan-15</td>\n",
       "      <td>Sector 20</td>\n",
       "      <td>Others</td>\n",
       "      <td>Sargar Deep Rao</td>\n",
       "      <td>Brenton Launius</td>\n",
       "      <td>2120294.12</td>\n",
       "      <td>0</td>\n",
       "    </tr>\n",
       "    <tr>\n",
       "      <th>7718</th>\n",
       "      <td>Services_based</td>\n",
       "      <td>Solution 26</td>\n",
       "      <td>11-Feb-18</td>\n",
       "      <td>Sector 17</td>\n",
       "      <td>L10</td>\n",
       "      <td>Molly Eakes</td>\n",
       "      <td>vansu dev</td>\n",
       "      <td>264705.88</td>\n",
       "      <td>0</td>\n",
       "    </tr>\n",
       "    <tr>\n",
       "      <th>8020</th>\n",
       "      <td>Internal</td>\n",
       "      <td>Solution 9</td>\n",
       "      <td>02-Jul-15</td>\n",
       "      <td>Sector 2</td>\n",
       "      <td>L9</td>\n",
       "      <td>Sargar Deep Rao</td>\n",
       "      <td>Rahul Kocher</td>\n",
       "      <td>264705.88</td>\n",
       "      <td>0</td>\n",
       "    </tr>\n",
       "    <tr>\n",
       "      <th>8167</th>\n",
       "      <td>Infrastructure</td>\n",
       "      <td>Solution 9</td>\n",
       "      <td>18-May-15</td>\n",
       "      <td>Sector 24</td>\n",
       "      <td>L10</td>\n",
       "      <td>Mervin Harwood</td>\n",
       "      <td>nahar singh</td>\n",
       "      <td>352941.18</td>\n",
       "      <td>0</td>\n",
       "    </tr>\n",
       "    <tr>\n",
       "      <th>8177</th>\n",
       "      <td>Services_based</td>\n",
       "      <td>Solution 9</td>\n",
       "      <td>03-Oct-15</td>\n",
       "      <td>Sector 23</td>\n",
       "      <td>L1</td>\n",
       "      <td>Ankita Aggarwal</td>\n",
       "      <td>bhagwati prasad</td>\n",
       "      <td>147058.82</td>\n",
       "      <td>0</td>\n",
       "    </tr>\n",
       "    <tr>\n",
       "      <th>8730</th>\n",
       "      <td>Others</td>\n",
       "      <td>Solution 9</td>\n",
       "      <td>14-Jun-16</td>\n",
       "      <td>Sector 23</td>\n",
       "      <td>L4</td>\n",
       "      <td>Rosanna Maynez</td>\n",
       "      <td>Devendra Vishvakarma</td>\n",
       "      <td>294117.65</td>\n",
       "      <td>0</td>\n",
       "    </tr>\n",
       "    <tr>\n",
       "      <th>8905</th>\n",
       "      <td>Domestic Private Bank</td>\n",
       "      <td>Solution 9</td>\n",
       "      <td>22-Aug-16</td>\n",
       "      <td>Sector 2</td>\n",
       "      <td>L1</td>\n",
       "      <td>Rosanna Maynez</td>\n",
       "      <td>ram kumar</td>\n",
       "      <td>294117.65</td>\n",
       "      <td>0</td>\n",
       "    </tr>\n",
       "    <tr>\n",
       "      <th>9208</th>\n",
       "      <td>International Bank</td>\n",
       "      <td>Solution 54</td>\n",
       "      <td>02-Aug-18</td>\n",
       "      <td>Sector 2</td>\n",
       "      <td>L10</td>\n",
       "      <td>Mervin Harwood</td>\n",
       "      <td>Rosana Yokum</td>\n",
       "      <td>235294.12</td>\n",
       "      <td>0</td>\n",
       "    </tr>\n",
       "    <tr>\n",
       "      <th>9462</th>\n",
       "      <td>Internal</td>\n",
       "      <td>Solution 9</td>\n",
       "      <td>22-Dec-17</td>\n",
       "      <td>Sector 20</td>\n",
       "      <td>Others</td>\n",
       "      <td>Hardeep Suksma</td>\n",
       "      <td>Raj Pinani</td>\n",
       "      <td>588235.29</td>\n",
       "      <td>0</td>\n",
       "    </tr>\n",
       "  </tbody>\n",
       "</table>\n",
       "</div>"
      ],
      "text/plain": [
       "            Client_Category Solution_Type  Deal_Date     Sector Location  \\\n",
       "3036   Domestic Public Bank   Solution 32  20-Mar-15   Sector 2       L7   \n",
       "3385                   Tech   Solution 32  31-Jul-15   Sector 2      L10   \n",
       "3880                Telecom   Solution 12  30-Aug-13  Sector 24   Others   \n",
       "5037                   Tech   Solution 13  08-May-12  Sector 23       L5   \n",
       "7637                   Govt   Solution 34  21-Feb-18   Sector 4      L10   \n",
       "7705               Internal    Solution 9  06-Jan-15  Sector 20   Others   \n",
       "7718         Services_based   Solution 26  11-Feb-18  Sector 17      L10   \n",
       "8020               Internal    Solution 9  02-Jul-15   Sector 2       L9   \n",
       "8167         Infrastructure    Solution 9  18-May-15  Sector 24      L10   \n",
       "8177         Services_based    Solution 9  03-Oct-15  Sector 23       L1   \n",
       "8730                 Others    Solution 9  14-Jun-16  Sector 23       L4   \n",
       "8905  Domestic Private Bank    Solution 9  22-Aug-16   Sector 2       L1   \n",
       "9208     International Bank   Solution 54  02-Aug-18   Sector 2      L10   \n",
       "9462               Internal    Solution 9  22-Dec-17  Sector 20   Others   \n",
       "\n",
       "               VP_Name          Manager_Name   Deal_Cost Deal_Status_Code  \n",
       "3036    Rosanna Maynez       Earline Langton   735294.12                0  \n",
       "3385    Long Bergstrom          Emil Knudsen   235294.12                0  \n",
       "3880  Mangesh K. Singh           Sohil Kumar   588235.29                0  \n",
       "5037   Sargar Deep Rao           Karan Dubey        0.00                0  \n",
       "7637    Mervin Harwood         Akshay Sharma   602941.18                0  \n",
       "7705   Sargar Deep Rao       Brenton Launius  2120294.12                0  \n",
       "7718       Molly Eakes             vansu dev   264705.88                0  \n",
       "8020   Sargar Deep Rao          Rahul Kocher   264705.88                0  \n",
       "8167    Mervin Harwood           nahar singh   352941.18                0  \n",
       "8177   Ankita Aggarwal       bhagwati prasad   147058.82                0  \n",
       "8730    Rosanna Maynez  Devendra Vishvakarma   294117.65                0  \n",
       "8905    Rosanna Maynez             ram kumar   294117.65                0  \n",
       "9208    Mervin Harwood          Rosana Yokum   235294.12                0  \n",
       "9462    Hardeep Suksma            Raj Pinani   588235.29                0  "
      ]
     },
     "execution_count": 87,
     "metadata": {},
     "output_type": "execute_result"
    }
   ],
   "source": [
    "win1[win1.duplicated()]              # Repeated values  "
   ]
  },
  {
   "cell_type": "code",
   "execution_count": 88,
   "id": "f2c04a9d",
   "metadata": {
    "collapsed": true
   },
   "outputs": [
    {
     "data": {
      "text/html": [
       "<div>\n",
       "<style scoped>\n",
       "    .dataframe tbody tr th:only-of-type {\n",
       "        vertical-align: middle;\n",
       "    }\n",
       "\n",
       "    .dataframe tbody tr th {\n",
       "        vertical-align: top;\n",
       "    }\n",
       "\n",
       "    .dataframe thead th {\n",
       "        text-align: right;\n",
       "    }\n",
       "</style>\n",
       "<table border=\"1\" class=\"dataframe\">\n",
       "  <thead>\n",
       "    <tr style=\"text-align: right;\">\n",
       "      <th></th>\n",
       "      <th>Client_Category</th>\n",
       "      <th>Solution_Type</th>\n",
       "      <th>Deal_Date</th>\n",
       "      <th>Sector</th>\n",
       "      <th>Location</th>\n",
       "      <th>VP_Name</th>\n",
       "      <th>Manager_Name</th>\n",
       "      <th>Deal_Cost</th>\n",
       "      <th>Deal_Status_Code</th>\n",
       "    </tr>\n",
       "  </thead>\n",
       "  <tbody>\n",
       "    <tr>\n",
       "      <th>0</th>\n",
       "      <td>Telecom</td>\n",
       "      <td>Solution 7</td>\n",
       "      <td>27-Mar-12</td>\n",
       "      <td>Sector 24</td>\n",
       "      <td>L5</td>\n",
       "      <td>Ekta Zutshi</td>\n",
       "      <td>Gopa Trilochana</td>\n",
       "      <td>150000.00</td>\n",
       "      <td>1</td>\n",
       "    </tr>\n",
       "    <tr>\n",
       "      <th>1</th>\n",
       "      <td>Telecom</td>\n",
       "      <td>Solution 7</td>\n",
       "      <td>25-Sep-12</td>\n",
       "      <td>Sector 24</td>\n",
       "      <td>L5</td>\n",
       "      <td>Ekta Zutshi</td>\n",
       "      <td>Gopa Trilochana</td>\n",
       "      <td>744705.88</td>\n",
       "      <td>1</td>\n",
       "    </tr>\n",
       "    <tr>\n",
       "      <th>2</th>\n",
       "      <td>Internal</td>\n",
       "      <td>Solution 59</td>\n",
       "      <td>01-Aug-11</td>\n",
       "      <td>Sector 20</td>\n",
       "      <td>Others</td>\n",
       "      <td>Ekta Zutshi</td>\n",
       "      <td>Russell Dahlen</td>\n",
       "      <td>60000.00</td>\n",
       "      <td>0</td>\n",
       "    </tr>\n",
       "    <tr>\n",
       "      <th>3</th>\n",
       "      <td>Internal</td>\n",
       "      <td>Solution 59</td>\n",
       "      <td>28-Apr-11</td>\n",
       "      <td>Sector 20</td>\n",
       "      <td>Others</td>\n",
       "      <td>Ekta Zutshi</td>\n",
       "      <td>Russell Dahlen</td>\n",
       "      <td>60000.00</td>\n",
       "      <td>0</td>\n",
       "    </tr>\n",
       "    <tr>\n",
       "      <th>4</th>\n",
       "      <td>Internal</td>\n",
       "      <td>Solution 32</td>\n",
       "      <td>03-Jun-11</td>\n",
       "      <td>Sector 20</td>\n",
       "      <td>Others</td>\n",
       "      <td>Ekta Zutshi</td>\n",
       "      <td>Russell Dahlen</td>\n",
       "      <td>80882.35</td>\n",
       "      <td>0</td>\n",
       "    </tr>\n",
       "    <tr>\n",
       "      <th>...</th>\n",
       "      <td>...</td>\n",
       "      <td>...</td>\n",
       "      <td>...</td>\n",
       "      <td>...</td>\n",
       "      <td>...</td>\n",
       "      <td>...</td>\n",
       "      <td>...</td>\n",
       "      <td>...</td>\n",
       "      <td>...</td>\n",
       "    </tr>\n",
       "    <tr>\n",
       "      <th>10056</th>\n",
       "      <td>Power ind</td>\n",
       "      <td>Solution 9</td>\n",
       "      <td>18-Mar-19</td>\n",
       "      <td>Sector 9</td>\n",
       "      <td>L5</td>\n",
       "      <td>Rudraksh Sharma</td>\n",
       "      <td>Rudraksh Sharma</td>\n",
       "      <td>588235.29</td>\n",
       "      <td>0</td>\n",
       "    </tr>\n",
       "    <tr>\n",
       "      <th>10057</th>\n",
       "      <td>Internal</td>\n",
       "      <td>Solution 6</td>\n",
       "      <td>04-Mar-19</td>\n",
       "      <td>Sector 20</td>\n",
       "      <td>Others</td>\n",
       "      <td>Rudraksh Sharma</td>\n",
       "      <td>Sharavan Singh</td>\n",
       "      <td>777058.82</td>\n",
       "      <td>1</td>\n",
       "    </tr>\n",
       "    <tr>\n",
       "      <th>10058</th>\n",
       "      <td>Power ind</td>\n",
       "      <td>Solution 9</td>\n",
       "      <td>28-Feb-19</td>\n",
       "      <td>Sector 9</td>\n",
       "      <td>L5</td>\n",
       "      <td>Rudraksh Sharma</td>\n",
       "      <td>Rudraksh Sharma</td>\n",
       "      <td>588235.29</td>\n",
       "      <td>0</td>\n",
       "    </tr>\n",
       "    <tr>\n",
       "      <th>10059</th>\n",
       "      <td>Power ind</td>\n",
       "      <td>Solution 62</td>\n",
       "      <td>27-Jan-19</td>\n",
       "      <td>Sector 9</td>\n",
       "      <td>L5</td>\n",
       "      <td>Man Suddeth</td>\n",
       "      <td>Cleotilde Biron</td>\n",
       "      <td>3042058.82</td>\n",
       "      <td>1</td>\n",
       "    </tr>\n",
       "    <tr>\n",
       "      <th>10060</th>\n",
       "      <td>Others</td>\n",
       "      <td>Solution 9</td>\n",
       "      <td>30-May-19</td>\n",
       "      <td>Sector 12</td>\n",
       "      <td>L10</td>\n",
       "      <td>Son Mcconnaughy</td>\n",
       "      <td>Tarun Garg</td>\n",
       "      <td>147058.82</td>\n",
       "      <td>0</td>\n",
       "    </tr>\n",
       "  </tbody>\n",
       "</table>\n",
       "<p>9968 rows × 9 columns</p>\n",
       "</div>"
      ],
      "text/plain": [
       "      Client_Category Solution_Type  Deal_Date     Sector Location  \\\n",
       "0             Telecom    Solution 7  27-Mar-12  Sector 24       L5   \n",
       "1             Telecom    Solution 7  25-Sep-12  Sector 24       L5   \n",
       "2            Internal   Solution 59  01-Aug-11  Sector 20   Others   \n",
       "3            Internal   Solution 59  28-Apr-11  Sector 20   Others   \n",
       "4            Internal   Solution 32  03-Jun-11  Sector 20   Others   \n",
       "...               ...           ...        ...        ...      ...   \n",
       "10056       Power ind    Solution 9  18-Mar-19   Sector 9       L5   \n",
       "10057        Internal    Solution 6  04-Mar-19  Sector 20   Others   \n",
       "10058       Power ind    Solution 9  28-Feb-19   Sector 9       L5   \n",
       "10059       Power ind   Solution 62  27-Jan-19   Sector 9       L5   \n",
       "10060          Others    Solution 9  30-May-19  Sector 12      L10   \n",
       "\n",
       "               VP_Name     Manager_Name   Deal_Cost Deal_Status_Code  \n",
       "0          Ekta Zutshi  Gopa Trilochana   150000.00                1  \n",
       "1          Ekta Zutshi  Gopa Trilochana   744705.88                1  \n",
       "2          Ekta Zutshi   Russell Dahlen    60000.00                0  \n",
       "3          Ekta Zutshi   Russell Dahlen    60000.00                0  \n",
       "4          Ekta Zutshi   Russell Dahlen    80882.35                0  \n",
       "...                ...              ...         ...              ...  \n",
       "10056  Rudraksh Sharma  Rudraksh Sharma   588235.29                0  \n",
       "10057  Rudraksh Sharma   Sharavan Singh   777058.82                1  \n",
       "10058  Rudraksh Sharma  Rudraksh Sharma   588235.29                0  \n",
       "10059      Man Suddeth  Cleotilde Biron  3042058.82                1  \n",
       "10060  Son Mcconnaughy       Tarun Garg   147058.82                0  \n",
       "\n",
       "[9968 rows x 9 columns]"
      ]
     },
     "execution_count": 88,
     "metadata": {},
     "output_type": "execute_result"
    }
   ],
   "source": [
    "win1.drop_duplicates()           # Dropped Duplicate values"
   ]
  },
  {
   "cell_type": "code",
   "execution_count": 89,
   "id": "b16ce701",
   "metadata": {
    "collapsed": true
   },
   "outputs": [
    {
     "data": {
      "text/plain": [
       "79       0.0\n",
       "95       0.0\n",
       "139      0.0\n",
       "150      0.0\n",
       "210      0.0\n",
       "        ... \n",
       "7886     0.0\n",
       "7903     0.0\n",
       "7907     0.0\n",
       "7921     0.0\n",
       "10005    0.0\n",
       "Name: Deal_Cost, Length: 240, dtype: float64"
      ]
     },
     "execution_count": 89,
     "metadata": {},
     "output_type": "execute_result"
    }
   ],
   "source": [
    "win1.Deal_Cost[win1['Deal_Cost'] < 1]        # checking Deal_Cost with zero values"
   ]
  },
  {
   "cell_type": "code",
   "execution_count": 90,
   "id": "14611983",
   "metadata": {},
   "outputs": [],
   "source": [
    "win1.drop(win1[win1.Deal_Cost < 1].index, inplace=True)   # Dropping Deal_Cost < 1"
   ]
  },
  {
   "cell_type": "code",
   "execution_count": 91,
   "id": "6e4e3fef",
   "metadata": {
    "scrolled": false
   },
   "outputs": [
    {
     "data": {
      "text/plain": [
       "Series([], Name: Deal_Cost, dtype: float64)"
      ]
     },
     "execution_count": 91,
     "metadata": {},
     "output_type": "execute_result"
    }
   ],
   "source": [
    "win1.Deal_Cost[win1['Deal_Cost'] < 1]"
   ]
  },
  {
   "cell_type": "markdown",
   "id": "d0a257b1",
   "metadata": {},
   "source": [
    "## Spliting Data into Train & Test "
   ]
  },
  {
   "cell_type": "code",
   "execution_count": 92,
   "id": "71d2a7f0",
   "metadata": {},
   "outputs": [],
   "source": [
    "x = win1.drop(['Deal_Status_Code'],axis=1)\n",
    "y = win1['Deal_Status_Code']"
   ]
  },
  {
   "cell_type": "code",
   "execution_count": 93,
   "id": "98c1872f",
   "metadata": {
    "collapsed": true
   },
   "outputs": [
    {
     "data": {
      "text/html": [
       "<div>\n",
       "<style scoped>\n",
       "    .dataframe tbody tr th:only-of-type {\n",
       "        vertical-align: middle;\n",
       "    }\n",
       "\n",
       "    .dataframe tbody tr th {\n",
       "        vertical-align: top;\n",
       "    }\n",
       "\n",
       "    .dataframe thead th {\n",
       "        text-align: right;\n",
       "    }\n",
       "</style>\n",
       "<table border=\"1\" class=\"dataframe\">\n",
       "  <thead>\n",
       "    <tr style=\"text-align: right;\">\n",
       "      <th></th>\n",
       "      <th>Client_Category</th>\n",
       "      <th>Solution_Type</th>\n",
       "      <th>Deal_Date</th>\n",
       "      <th>Sector</th>\n",
       "      <th>Location</th>\n",
       "      <th>VP_Name</th>\n",
       "      <th>Manager_Name</th>\n",
       "      <th>Deal_Cost</th>\n",
       "    </tr>\n",
       "  </thead>\n",
       "  <tbody>\n",
       "    <tr>\n",
       "      <th>0</th>\n",
       "      <td>Telecom</td>\n",
       "      <td>Solution 7</td>\n",
       "      <td>27-Mar-12</td>\n",
       "      <td>Sector 24</td>\n",
       "      <td>L5</td>\n",
       "      <td>Ekta Zutshi</td>\n",
       "      <td>Gopa Trilochana</td>\n",
       "      <td>150000.00</td>\n",
       "    </tr>\n",
       "    <tr>\n",
       "      <th>1</th>\n",
       "      <td>Telecom</td>\n",
       "      <td>Solution 7</td>\n",
       "      <td>25-Sep-12</td>\n",
       "      <td>Sector 24</td>\n",
       "      <td>L5</td>\n",
       "      <td>Ekta Zutshi</td>\n",
       "      <td>Gopa Trilochana</td>\n",
       "      <td>744705.88</td>\n",
       "    </tr>\n",
       "    <tr>\n",
       "      <th>2</th>\n",
       "      <td>Internal</td>\n",
       "      <td>Solution 59</td>\n",
       "      <td>01-Aug-11</td>\n",
       "      <td>Sector 20</td>\n",
       "      <td>Others</td>\n",
       "      <td>Ekta Zutshi</td>\n",
       "      <td>Russell Dahlen</td>\n",
       "      <td>60000.00</td>\n",
       "    </tr>\n",
       "    <tr>\n",
       "      <th>3</th>\n",
       "      <td>Internal</td>\n",
       "      <td>Solution 59</td>\n",
       "      <td>28-Apr-11</td>\n",
       "      <td>Sector 20</td>\n",
       "      <td>Others</td>\n",
       "      <td>Ekta Zutshi</td>\n",
       "      <td>Russell Dahlen</td>\n",
       "      <td>60000.00</td>\n",
       "    </tr>\n",
       "    <tr>\n",
       "      <th>4</th>\n",
       "      <td>Internal</td>\n",
       "      <td>Solution 32</td>\n",
       "      <td>03-Jun-11</td>\n",
       "      <td>Sector 20</td>\n",
       "      <td>Others</td>\n",
       "      <td>Ekta Zutshi</td>\n",
       "      <td>Russell Dahlen</td>\n",
       "      <td>80882.35</td>\n",
       "    </tr>\n",
       "    <tr>\n",
       "      <th>5</th>\n",
       "      <td>Internal</td>\n",
       "      <td>Solution 32</td>\n",
       "      <td>24-May-11</td>\n",
       "      <td>Sector 20</td>\n",
       "      <td>Others</td>\n",
       "      <td>Ekta Zutshi</td>\n",
       "      <td>Russell Dahlen</td>\n",
       "      <td>80882.35</td>\n",
       "    </tr>\n",
       "    <tr>\n",
       "      <th>6</th>\n",
       "      <td>Internal</td>\n",
       "      <td>Solution 59</td>\n",
       "      <td>03-Nov-11</td>\n",
       "      <td>Sector 2</td>\n",
       "      <td>L10</td>\n",
       "      <td>Mervin Harwood</td>\n",
       "      <td>rahul sharma</td>\n",
       "      <td>526176.47</td>\n",
       "    </tr>\n",
       "    <tr>\n",
       "      <th>7</th>\n",
       "      <td>Govt</td>\n",
       "      <td>Solution 7</td>\n",
       "      <td>17-Sep-12</td>\n",
       "      <td>Sector 13</td>\n",
       "      <td>L5</td>\n",
       "      <td>Sargar Deep Rao</td>\n",
       "      <td>Vidur Hukle</td>\n",
       "      <td>409705.88</td>\n",
       "    </tr>\n",
       "    <tr>\n",
       "      <th>8</th>\n",
       "      <td>Consumer Good</td>\n",
       "      <td>Solution 42</td>\n",
       "      <td>11-Apr-12</td>\n",
       "      <td>Sector 12</td>\n",
       "      <td>L10</td>\n",
       "      <td>Lilli Storrs</td>\n",
       "      <td>Md. Daud</td>\n",
       "      <td>1032352.94</td>\n",
       "    </tr>\n",
       "    <tr>\n",
       "      <th>9</th>\n",
       "      <td>Internal</td>\n",
       "      <td>Solution 59</td>\n",
       "      <td>17-Nov-11</td>\n",
       "      <td>Sector 20</td>\n",
       "      <td>Others</td>\n",
       "      <td>Sargar Deep Rao</td>\n",
       "      <td>Hardeep Suksma</td>\n",
       "      <td>558823.53</td>\n",
       "    </tr>\n",
       "  </tbody>\n",
       "</table>\n",
       "</div>"
      ],
      "text/plain": [
       "  Client_Category Solution_Type  Deal_Date     Sector Location  \\\n",
       "0         Telecom    Solution 7  27-Mar-12  Sector 24       L5   \n",
       "1         Telecom    Solution 7  25-Sep-12  Sector 24       L5   \n",
       "2        Internal   Solution 59  01-Aug-11  Sector 20   Others   \n",
       "3        Internal   Solution 59  28-Apr-11  Sector 20   Others   \n",
       "4        Internal   Solution 32  03-Jun-11  Sector 20   Others   \n",
       "5        Internal   Solution 32  24-May-11  Sector 20   Others   \n",
       "6        Internal   Solution 59  03-Nov-11   Sector 2      L10   \n",
       "7            Govt    Solution 7  17-Sep-12  Sector 13       L5   \n",
       "8   Consumer Good   Solution 42  11-Apr-12  Sector 12      L10   \n",
       "9        Internal   Solution 59  17-Nov-11  Sector 20   Others   \n",
       "\n",
       "           VP_Name     Manager_Name   Deal_Cost  \n",
       "0      Ekta Zutshi  Gopa Trilochana   150000.00  \n",
       "1      Ekta Zutshi  Gopa Trilochana   744705.88  \n",
       "2      Ekta Zutshi   Russell Dahlen    60000.00  \n",
       "3      Ekta Zutshi   Russell Dahlen    60000.00  \n",
       "4      Ekta Zutshi   Russell Dahlen    80882.35  \n",
       "5      Ekta Zutshi   Russell Dahlen    80882.35  \n",
       "6   Mervin Harwood     rahul sharma   526176.47  \n",
       "7  Sargar Deep Rao      Vidur Hukle   409705.88  \n",
       "8     Lilli Storrs         Md. Daud  1032352.94  \n",
       "9  Sargar Deep Rao   Hardeep Suksma   558823.53  "
      ]
     },
     "execution_count": 93,
     "metadata": {},
     "output_type": "execute_result"
    }
   ],
   "source": [
    "x.head(10)"
   ]
  },
  {
   "cell_type": "code",
   "execution_count": 94,
   "id": "e60104f5",
   "metadata": {
    "collapsed": true
   },
   "outputs": [
    {
     "data": {
      "text/plain": [
       "0    1\n",
       "1    1\n",
       "2    0\n",
       "3    0\n",
       "4    0\n",
       "5    0\n",
       "6    1\n",
       "7    0\n",
       "8    1\n",
       "9    0\n",
       "Name: Deal_Status_Code, dtype: object"
      ]
     },
     "execution_count": 94,
     "metadata": {},
     "output_type": "execute_result"
    }
   ],
   "source": [
    "y.head(10)"
   ]
  },
  {
   "cell_type": "code",
   "execution_count": 95,
   "id": "f472313a",
   "metadata": {},
   "outputs": [],
   "source": [
    "from sklearn.model_selection import train_test_split\n",
    "x_train,x_test,y_train,y_test = train_test_split(x,y,test_size=0.30,random_state=105)"
   ]
  },
  {
   "cell_type": "code",
   "execution_count": 96,
   "id": "a138cd8b",
   "metadata": {},
   "outputs": [
    {
     "name": "stdout",
     "output_type": "stream",
     "text": [
      "orginal size (9742, 9) \n",
      " train size (6819, 8) \n",
      " test size (2923, 8)\n"
     ]
    }
   ],
   "source": [
    "print(\"orginal size\",win1.shape,\"\\n train size\", x_train.shape,\"\\n test size\",x_test.shape)"
   ]
  },
  {
   "cell_type": "code",
   "execution_count": 97,
   "id": "66f0cf10",
   "metadata": {},
   "outputs": [
    {
     "data": {
      "text/plain": [
       "((6819, 8), (2923, 8))"
      ]
     },
     "execution_count": 97,
     "metadata": {},
     "output_type": "execute_result"
    }
   ],
   "source": [
    "x_train.shape,x_test.shape"
   ]
  },
  {
   "cell_type": "code",
   "execution_count": 98,
   "id": "ea40767d",
   "metadata": {
    "collapsed": true
   },
   "outputs": [
    {
     "name": "stdout",
     "output_type": "stream",
     "text": [
      "Requirement already satisfied: category-encoders in c:\\users\\piyush\\anaconda3\\lib\\site-packages (2.5.0)\n",
      "Requirement already satisfied: patsy>=0.5.1 in c:\\users\\piyush\\anaconda3\\lib\\site-packages (from category-encoders) (0.5.2)\n",
      "Requirement already satisfied: numpy>=1.14.0 in c:\\users\\piyush\\anaconda3\\lib\\site-packages (from category-encoders) (1.21.5)\n",
      "Requirement already satisfied: scikit-learn>=0.20.0 in c:\\users\\piyush\\anaconda3\\lib\\site-packages (from category-encoders) (1.0.2)\n",
      "Requirement already satisfied: scipy>=1.0.0 in c:\\users\\piyush\\anaconda3\\lib\\site-packages (from category-encoders) (1.7.3)\n",
      "Requirement already satisfied: statsmodels>=0.9.0 in c:\\users\\piyush\\anaconda3\\lib\\site-packages (from category-encoders) (0.13.2)\n",
      "Requirement already satisfied: pandas>=1.0.5 in c:\\users\\piyush\\anaconda3\\lib\\site-packages (from category-encoders) (1.4.2)\n",
      "Requirement already satisfied: python-dateutil>=2.8.1 in c:\\users\\piyush\\anaconda3\\lib\\site-packages (from pandas>=1.0.5->category-encoders) (2.8.2)\n",
      "Requirement already satisfied: pytz>=2020.1 in c:\\users\\piyush\\anaconda3\\lib\\site-packages (from pandas>=1.0.5->category-encoders) (2021.3)\n",
      "Requirement already satisfied: six in c:\\users\\piyush\\anaconda3\\lib\\site-packages (from patsy>=0.5.1->category-encoders) (1.16.0)\n",
      "Requirement already satisfied: threadpoolctl>=2.0.0 in c:\\users\\piyush\\anaconda3\\lib\\site-packages (from scikit-learn>=0.20.0->category-encoders) (2.2.0)\n",
      "Requirement already satisfied: joblib>=0.11 in c:\\users\\piyush\\anaconda3\\lib\\site-packages (from scikit-learn>=0.20.0->category-encoders) (1.1.0)\n",
      "Requirement already satisfied: packaging>=21.3 in c:\\users\\piyush\\anaconda3\\lib\\site-packages (from statsmodels>=0.9.0->category-encoders) (21.3)\n",
      "Requirement already satisfied: pyparsing!=3.0.5,>=2.0.2 in c:\\users\\piyush\\anaconda3\\lib\\site-packages (from packaging>=21.3->statsmodels>=0.9.0->category-encoders) (3.0.4)\n",
      "Note: you may need to restart the kernel to use updated packages.\n"
     ]
    }
   ],
   "source": [
    "pip install category-encoders               # installing encoders "
   ]
  },
  {
   "cell_type": "code",
   "execution_count": 99,
   "id": "a6713379",
   "metadata": {},
   "outputs": [],
   "source": [
    "import category_encoders as ce"
   ]
  },
  {
   "cell_type": "code",
   "execution_count": 100,
   "id": "305f8f29",
   "metadata": {},
   "outputs": [],
   "source": [
    "encoder = ce.OrdinalEncoder(cols=['Client_Category','Solution_Type','Deal_Date','Sector','Location','VP_Name','Manager_Name'])\n",
    "x_train = encoder.fit_transform(x_train)\n",
    "x_test = encoder.transform(x_test)"
   ]
  },
  {
   "cell_type": "code",
   "execution_count": 101,
   "id": "6ac5c7a4",
   "metadata": {},
   "outputs": [
    {
     "data": {
      "text/html": [
       "<div>\n",
       "<style scoped>\n",
       "    .dataframe tbody tr th:only-of-type {\n",
       "        vertical-align: middle;\n",
       "    }\n",
       "\n",
       "    .dataframe tbody tr th {\n",
       "        vertical-align: top;\n",
       "    }\n",
       "\n",
       "    .dataframe thead th {\n",
       "        text-align: right;\n",
       "    }\n",
       "</style>\n",
       "<table border=\"1\" class=\"dataframe\">\n",
       "  <thead>\n",
       "    <tr style=\"text-align: right;\">\n",
       "      <th></th>\n",
       "      <th>Client_Category</th>\n",
       "      <th>Solution_Type</th>\n",
       "      <th>Deal_Date</th>\n",
       "      <th>Sector</th>\n",
       "      <th>Location</th>\n",
       "      <th>VP_Name</th>\n",
       "      <th>Manager_Name</th>\n",
       "      <th>Deal_Cost</th>\n",
       "    </tr>\n",
       "  </thead>\n",
       "  <tbody>\n",
       "    <tr>\n",
       "      <th>2453</th>\n",
       "      <td>1</td>\n",
       "      <td>1</td>\n",
       "      <td>1</td>\n",
       "      <td>1</td>\n",
       "      <td>1</td>\n",
       "      <td>1</td>\n",
       "      <td>1</td>\n",
       "      <td>373823.53</td>\n",
       "    </tr>\n",
       "    <tr>\n",
       "      <th>5191</th>\n",
       "      <td>2</td>\n",
       "      <td>2</td>\n",
       "      <td>2</td>\n",
       "      <td>2</td>\n",
       "      <td>2</td>\n",
       "      <td>2</td>\n",
       "      <td>2</td>\n",
       "      <td>323529.41</td>\n",
       "    </tr>\n",
       "    <tr>\n",
       "      <th>6070</th>\n",
       "      <td>3</td>\n",
       "      <td>3</td>\n",
       "      <td>3</td>\n",
       "      <td>1</td>\n",
       "      <td>1</td>\n",
       "      <td>3</td>\n",
       "      <td>3</td>\n",
       "      <td>30000.00</td>\n",
       "    </tr>\n",
       "    <tr>\n",
       "      <th>6841</th>\n",
       "      <td>4</td>\n",
       "      <td>4</td>\n",
       "      <td>4</td>\n",
       "      <td>3</td>\n",
       "      <td>2</td>\n",
       "      <td>2</td>\n",
       "      <td>4</td>\n",
       "      <td>352941.18</td>\n",
       "    </tr>\n",
       "    <tr>\n",
       "      <th>8024</th>\n",
       "      <td>3</td>\n",
       "      <td>5</td>\n",
       "      <td>5</td>\n",
       "      <td>1</td>\n",
       "      <td>3</td>\n",
       "      <td>2</td>\n",
       "      <td>5</td>\n",
       "      <td>337941.18</td>\n",
       "    </tr>\n",
       "    <tr>\n",
       "      <th>6723</th>\n",
       "      <td>5</td>\n",
       "      <td>6</td>\n",
       "      <td>6</td>\n",
       "      <td>4</td>\n",
       "      <td>4</td>\n",
       "      <td>4</td>\n",
       "      <td>6</td>\n",
       "      <td>470588.24</td>\n",
       "    </tr>\n",
       "    <tr>\n",
       "      <th>7777</th>\n",
       "      <td>4</td>\n",
       "      <td>5</td>\n",
       "      <td>7</td>\n",
       "      <td>5</td>\n",
       "      <td>2</td>\n",
       "      <td>2</td>\n",
       "      <td>7</td>\n",
       "      <td>441176.47</td>\n",
       "    </tr>\n",
       "    <tr>\n",
       "      <th>5238</th>\n",
       "      <td>6</td>\n",
       "      <td>2</td>\n",
       "      <td>8</td>\n",
       "      <td>5</td>\n",
       "      <td>5</td>\n",
       "      <td>5</td>\n",
       "      <td>8</td>\n",
       "      <td>1470.59</td>\n",
       "    </tr>\n",
       "    <tr>\n",
       "      <th>825</th>\n",
       "      <td>7</td>\n",
       "      <td>1</td>\n",
       "      <td>9</td>\n",
       "      <td>1</td>\n",
       "      <td>1</td>\n",
       "      <td>1</td>\n",
       "      <td>9</td>\n",
       "      <td>245882.35</td>\n",
       "    </tr>\n",
       "    <tr>\n",
       "      <th>9794</th>\n",
       "      <td>3</td>\n",
       "      <td>7</td>\n",
       "      <td>10</td>\n",
       "      <td>6</td>\n",
       "      <td>1</td>\n",
       "      <td>6</td>\n",
       "      <td>10</td>\n",
       "      <td>405882.35</td>\n",
       "    </tr>\n",
       "  </tbody>\n",
       "</table>\n",
       "</div>"
      ],
      "text/plain": [
       "      Client_Category  Solution_Type  Deal_Date  Sector  Location  VP_Name  \\\n",
       "2453                1              1          1       1         1        1   \n",
       "5191                2              2          2       2         2        2   \n",
       "6070                3              3          3       1         1        3   \n",
       "6841                4              4          4       3         2        2   \n",
       "8024                3              5          5       1         3        2   \n",
       "6723                5              6          6       4         4        4   \n",
       "7777                4              5          7       5         2        2   \n",
       "5238                6              2          8       5         5        5   \n",
       "825                 7              1          9       1         1        1   \n",
       "9794                3              7         10       6         1        6   \n",
       "\n",
       "      Manager_Name  Deal_Cost  \n",
       "2453             1  373823.53  \n",
       "5191             2  323529.41  \n",
       "6070             3   30000.00  \n",
       "6841             4  352941.18  \n",
       "8024             5  337941.18  \n",
       "6723             6  470588.24  \n",
       "7777             7  441176.47  \n",
       "5238             8    1470.59  \n",
       "825              9  245882.35  \n",
       "9794            10  405882.35  "
      ]
     },
     "execution_count": 101,
     "metadata": {},
     "output_type": "execute_result"
    }
   ],
   "source": [
    "x_train.head(10)"
   ]
  },
  {
   "cell_type": "code",
   "execution_count": 102,
   "id": "34568bf3",
   "metadata": {},
   "outputs": [
    {
     "data": {
      "text/html": [
       "<div>\n",
       "<style scoped>\n",
       "    .dataframe tbody tr th:only-of-type {\n",
       "        vertical-align: middle;\n",
       "    }\n",
       "\n",
       "    .dataframe tbody tr th {\n",
       "        vertical-align: top;\n",
       "    }\n",
       "\n",
       "    .dataframe thead th {\n",
       "        text-align: right;\n",
       "    }\n",
       "</style>\n",
       "<table border=\"1\" class=\"dataframe\">\n",
       "  <thead>\n",
       "    <tr style=\"text-align: right;\">\n",
       "      <th></th>\n",
       "      <th>Client_Category</th>\n",
       "      <th>Solution_Type</th>\n",
       "      <th>Deal_Date</th>\n",
       "      <th>Sector</th>\n",
       "      <th>Location</th>\n",
       "      <th>VP_Name</th>\n",
       "      <th>Manager_Name</th>\n",
       "      <th>Deal_Cost</th>\n",
       "    </tr>\n",
       "  </thead>\n",
       "  <tbody>\n",
       "    <tr>\n",
       "      <th>6184</th>\n",
       "      <td>4</td>\n",
       "      <td>6.0</td>\n",
       "      <td>1053.0</td>\n",
       "      <td>18</td>\n",
       "      <td>1</td>\n",
       "      <td>8.0</td>\n",
       "      <td>260.0</td>\n",
       "      <td>1029411.77</td>\n",
       "    </tr>\n",
       "    <tr>\n",
       "      <th>7487</th>\n",
       "      <td>11</td>\n",
       "      <td>13.0</td>\n",
       "      <td>626.0</td>\n",
       "      <td>9</td>\n",
       "      <td>1</td>\n",
       "      <td>1.0</td>\n",
       "      <td>86.0</td>\n",
       "      <td>764705.88</td>\n",
       "    </tr>\n",
       "    <tr>\n",
       "      <th>6734</th>\n",
       "      <td>11</td>\n",
       "      <td>11.0</td>\n",
       "      <td>1098.0</td>\n",
       "      <td>3</td>\n",
       "      <td>4</td>\n",
       "      <td>9.0</td>\n",
       "      <td>37.0</td>\n",
       "      <td>132352.94</td>\n",
       "    </tr>\n",
       "    <tr>\n",
       "      <th>25</th>\n",
       "      <td>15</td>\n",
       "      <td>11.0</td>\n",
       "      <td>864.0</td>\n",
       "      <td>3</td>\n",
       "      <td>4</td>\n",
       "      <td>3.0</td>\n",
       "      <td>80.0</td>\n",
       "      <td>647058.82</td>\n",
       "    </tr>\n",
       "    <tr>\n",
       "      <th>4625</th>\n",
       "      <td>3</td>\n",
       "      <td>7.0</td>\n",
       "      <td>1874.0</td>\n",
       "      <td>1</td>\n",
       "      <td>1</td>\n",
       "      <td>11.0</td>\n",
       "      <td>48.0</td>\n",
       "      <td>370588.24</td>\n",
       "    </tr>\n",
       "    <tr>\n",
       "      <th>3026</th>\n",
       "      <td>3</td>\n",
       "      <td>10.0</td>\n",
       "      <td>817.0</td>\n",
       "      <td>9</td>\n",
       "      <td>3</td>\n",
       "      <td>1.0</td>\n",
       "      <td>78.0</td>\n",
       "      <td>529411.77</td>\n",
       "    </tr>\n",
       "    <tr>\n",
       "      <th>8913</th>\n",
       "      <td>3</td>\n",
       "      <td>4.0</td>\n",
       "      <td>1344.0</td>\n",
       "      <td>3</td>\n",
       "      <td>2</td>\n",
       "      <td>19.0</td>\n",
       "      <td>66.0</td>\n",
       "      <td>56176.47</td>\n",
       "    </tr>\n",
       "    <tr>\n",
       "      <th>6347</th>\n",
       "      <td>15</td>\n",
       "      <td>4.0</td>\n",
       "      <td>347.0</td>\n",
       "      <td>3</td>\n",
       "      <td>2</td>\n",
       "      <td>18.0</td>\n",
       "      <td>40.0</td>\n",
       "      <td>735294.12</td>\n",
       "    </tr>\n",
       "    <tr>\n",
       "      <th>5942</th>\n",
       "      <td>16</td>\n",
       "      <td>4.0</td>\n",
       "      <td>1706.0</td>\n",
       "      <td>17</td>\n",
       "      <td>1</td>\n",
       "      <td>7.0</td>\n",
       "      <td>1.0</td>\n",
       "      <td>360294.12</td>\n",
       "    </tr>\n",
       "    <tr>\n",
       "      <th>8202</th>\n",
       "      <td>20</td>\n",
       "      <td>5.0</td>\n",
       "      <td>489.0</td>\n",
       "      <td>1</td>\n",
       "      <td>1</td>\n",
       "      <td>1.0</td>\n",
       "      <td>42.0</td>\n",
       "      <td>232058.82</td>\n",
       "    </tr>\n",
       "  </tbody>\n",
       "</table>\n",
       "</div>"
      ],
      "text/plain": [
       "      Client_Category  Solution_Type  Deal_Date  Sector  Location  VP_Name  \\\n",
       "6184                4            6.0     1053.0      18         1      8.0   \n",
       "7487               11           13.0      626.0       9         1      1.0   \n",
       "6734               11           11.0     1098.0       3         4      9.0   \n",
       "25                 15           11.0      864.0       3         4      3.0   \n",
       "4625                3            7.0     1874.0       1         1     11.0   \n",
       "3026                3           10.0      817.0       9         3      1.0   \n",
       "8913                3            4.0     1344.0       3         2     19.0   \n",
       "6347               15            4.0      347.0       3         2     18.0   \n",
       "5942               16            4.0     1706.0      17         1      7.0   \n",
       "8202               20            5.0      489.0       1         1      1.0   \n",
       "\n",
       "      Manager_Name   Deal_Cost  \n",
       "6184         260.0  1029411.77  \n",
       "7487          86.0   764705.88  \n",
       "6734          37.0   132352.94  \n",
       "25            80.0   647058.82  \n",
       "4625          48.0   370588.24  \n",
       "3026          78.0   529411.77  \n",
       "8913          66.0    56176.47  \n",
       "6347          40.0   735294.12  \n",
       "5942           1.0   360294.12  \n",
       "8202          42.0   232058.82  "
      ]
     },
     "execution_count": 102,
     "metadata": {},
     "output_type": "execute_result"
    }
   ],
   "source": [
    "x_test.head(10)"
   ]
  },
  {
   "cell_type": "markdown",
   "id": "5655deb4",
   "metadata": {},
   "source": [
    "## Decision Tree"
   ]
  },
  {
   "cell_type": "code",
   "execution_count": 103,
   "id": "fb2f931c",
   "metadata": {},
   "outputs": [],
   "source": [
    "from sklearn.tree import DecisionTreeClassifier"
   ]
  },
  {
   "cell_type": "code",
   "execution_count": 104,
   "id": "0724587e",
   "metadata": {},
   "outputs": [
    {
     "data": {
      "text/plain": [
       "DecisionTreeClassifier(max_depth=4, random_state=0)"
      ]
     },
     "execution_count": 104,
     "metadata": {},
     "output_type": "execute_result"
    }
   ],
   "source": [
    "#instantiate the DecisionTreeClassifier model with criterian gini index\n",
    "clf_gini = DecisionTreeClassifier(criterion='gini', max_depth=4, random_state=0)\n",
    "#fit the model\n",
    "clf_gini.fit(x_train, y_train)"
   ]
  },
  {
   "cell_type": "code",
   "execution_count": 105,
   "id": "6c3d2524",
   "metadata": {},
   "outputs": [],
   "source": [
    "y_pred_gini = clf_gini.predict(x_test)"
   ]
  },
  {
   "cell_type": "code",
   "execution_count": 106,
   "id": "ba3392f7",
   "metadata": {},
   "outputs": [
    {
     "name": "stdout",
     "output_type": "stream",
     "text": [
      "Model accuracy with  gini index: 0.6435\n"
     ]
    }
   ],
   "source": [
    "from sklearn.metrics import accuracy_score\n",
    "print('Model accuracy with  gini index: {0:0.4f}'. format(accuracy_score(y_test, y_pred_gini)))"
   ]
  },
  {
   "cell_type": "code",
   "execution_count": 107,
   "id": "22601616",
   "metadata": {},
   "outputs": [
    {
     "data": {
      "text/plain": [
       "array(['0', '0', '1', ..., '0', '0', '0'], dtype=object)"
      ]
     },
     "execution_count": 107,
     "metadata": {},
     "output_type": "execute_result"
    }
   ],
   "source": [
    "y_pred_train_gini = clf_gini.predict(x_train)\n",
    "y_pred_train_gini"
   ]
  },
  {
   "cell_type": "code",
   "execution_count": 108,
   "id": "00eb3398",
   "metadata": {},
   "outputs": [
    {
     "name": "stdout",
     "output_type": "stream",
     "text": [
      "Training-set accuracy score: 0.6498\n"
     ]
    }
   ],
   "source": [
    "print('Training-set accuracy score: {0:0.4f}'. format(accuracy_score(y_train, y_pred_train_gini)))"
   ]
  },
  {
   "cell_type": "code",
   "execution_count": 109,
   "id": "3bca63db",
   "metadata": {},
   "outputs": [
    {
     "name": "stdout",
     "output_type": "stream",
     "text": [
      "Training set score: 0.6498\n",
      "Test set score: 0.6435\n"
     ]
    }
   ],
   "source": [
    "# print the scores on training and test set\n",
    "\n",
    "print('Training set score: {:.4f}'.format(clf_gini.score(x_train, y_train)))\n",
    "\n",
    "print('Test set score: {:.4f}'.format(clf_gini.score(x_test, y_test)))"
   ]
  },
  {
   "cell_type": "markdown",
   "id": "bab3ff96",
   "metadata": {},
   "source": [
    "#### Training-set accuracy score for Decision Tree: 64.98%\n",
    "#### Test-set accuracy score for Decision Tree: 64.35%\n"
   ]
  },
  {
   "cell_type": "code",
   "execution_count": 110,
   "id": "3030ad67",
   "metadata": {},
   "outputs": [
    {
     "data": {
      "text/plain": [
       "[Text(0.5, 0.9, 'X[7] <= 235000.0\\ngini = 0.472\\nsamples = 6819\\nvalue = [4217, 2602]'),\n",
       " Text(0.25, 0.7, 'X[7] <= 3676.475\\ngini = 0.498\\nsamples = 1941\\nvalue = [1027, 914]'),\n",
       " Text(0.125, 0.5, 'X[7] <= 1176.47\\ngini = 0.061\\nsamples = 96\\nvalue = [93, 3]'),\n",
       " Text(0.0625, 0.3, 'X[1] <= 12.0\\ngini = 0.5\\nsamples = 4\\nvalue = [2, 2]'),\n",
       " Text(0.03125, 0.1, 'gini = 0.0\\nsamples = 2\\nvalue = [0, 2]'),\n",
       " Text(0.09375, 0.1, 'gini = 0.0\\nsamples = 2\\nvalue = [2, 0]'),\n",
       " Text(0.1875, 0.3, 'X[0] <= 3.5\\ngini = 0.022\\nsamples = 92\\nvalue = [91, 1]'),\n",
       " Text(0.15625, 0.1, 'gini = 0.117\\nsamples = 16\\nvalue = [15, 1]'),\n",
       " Text(0.21875, 0.1, 'gini = 0.0\\nsamples = 76\\nvalue = [76, 0]'),\n",
       " Text(0.375, 0.5, 'X[7] <= 108088.234\\ngini = 0.5\\nsamples = 1845\\nvalue = [934, 911]'),\n",
       " Text(0.3125, 0.3, 'X[0] <= 6.5\\ngini = 0.471\\nsamples = 570\\nvalue = [216, 354]'),\n",
       " Text(0.28125, 0.1, 'gini = 0.397\\nsamples = 249\\nvalue = [68, 181]'),\n",
       " Text(0.34375, 0.1, 'gini = 0.497\\nsamples = 321\\nvalue = [148, 173]'),\n",
       " Text(0.4375, 0.3, 'X[1] <= 5.5\\ngini = 0.492\\nsamples = 1275\\nvalue = [718, 557]'),\n",
       " Text(0.40625, 0.1, 'gini = 0.45\\nsamples = 483\\nvalue = [318, 165]'),\n",
       " Text(0.46875, 0.1, 'gini = 0.5\\nsamples = 792\\nvalue = [400, 392]'),\n",
       " Text(0.75, 0.7, 'X[1] <= 9.5\\ngini = 0.453\\nsamples = 4878\\nvalue = [3190, 1688]'),\n",
       " Text(0.625, 0.5, 'X[6] <= 43.5\\ngini = 0.422\\nsamples = 2424\\nvalue = [1692, 732]'),\n",
       " Text(0.5625, 0.3, 'X[7] <= 5222352.75\\ngini = 0.377\\nsamples = 1121\\nvalue = [838, 283]'),\n",
       " Text(0.53125, 0.1, 'gini = 0.37\\nsamples = 1104\\nvalue = [833, 271]'),\n",
       " Text(0.59375, 0.1, 'gini = 0.415\\nsamples = 17\\nvalue = [5, 12]'),\n",
       " Text(0.6875, 0.3, 'X[4] <= 1.5\\ngini = 0.452\\nsamples = 1303\\nvalue = [854, 449]'),\n",
       " Text(0.65625, 0.1, 'gini = 0.402\\nsamples = 463\\nvalue = [334, 129]'),\n",
       " Text(0.71875, 0.1, 'gini = 0.472\\nsamples = 840\\nvalue = [520, 320]'),\n",
       " Text(0.875, 0.5, 'X[1] <= 11.5\\ngini = 0.476\\nsamples = 2454\\nvalue = [1498, 956]'),\n",
       " Text(0.8125, 0.3, 'X[3] <= 12.5\\ngini = 0.5\\nsamples = 992\\nvalue = [483, 509]'),\n",
       " Text(0.78125, 0.1, 'gini = 0.497\\nsamples = 919\\nvalue = [426, 493]'),\n",
       " Text(0.84375, 0.1, 'gini = 0.342\\nsamples = 73\\nvalue = [57, 16]'),\n",
       " Text(0.9375, 0.3, 'X[0] <= 8.5\\ngini = 0.425\\nsamples = 1462\\nvalue = [1015, 447]'),\n",
       " Text(0.90625, 0.1, 'gini = 0.467\\nsamples = 629\\nvalue = [395, 234]'),\n",
       " Text(0.96875, 0.1, 'gini = 0.381\\nsamples = 833\\nvalue = [620, 213]')]"
      ]
     },
     "execution_count": 110,
     "metadata": {},
     "output_type": "execute_result"
    },
    {
     "data": {
      "image/png": "[encoded data removed]",
      "text/plain": [
       "<Figure size 864x576 with 1 Axes>"
      ]
     },
     "metadata": {
      "needs_background": "light"
     },
     "output_type": "display_data"
    }
   ],
   "source": [
    "plt.figure(figsize=(12,8))\n",
    "\n",
    "from sklearn import tree\n",
    "tree.plot_tree(clf_gini.fit(x_train,y_train))"
   ]
  },
  {
   "cell_type": "markdown",
   "id": "91d80dc3",
   "metadata": {},
   "source": [
    "## Logisitic Regression"
   ]
  },
  {
   "cell_type": "code",
   "execution_count": 111,
   "id": "f088f62b",
   "metadata": {},
   "outputs": [],
   "source": [
    "from sklearn.linear_model import LogisticRegression\n",
    "model = LogisticRegression()"
   ]
  },
  {
   "cell_type": "code",
   "execution_count": 112,
   "id": "1a2031f4",
   "metadata": {},
   "outputs": [
    {
     "data": {
      "text/plain": [
       "LogisticRegression()"
      ]
     },
     "execution_count": 112,
     "metadata": {},
     "output_type": "execute_result"
    }
   ],
   "source": [
    "model.fit(x_train,y_train)"
   ]
  },
  {
   "cell_type": "code",
   "execution_count": 113,
   "id": "8b80ce67",
   "metadata": {
    "collapsed": true
   },
   "outputs": [
    {
     "data": {
      "text/html": [
       "<div>\n",
       "<style scoped>\n",
       "    .dataframe tbody tr th:only-of-type {\n",
       "        vertical-align: middle;\n",
       "    }\n",
       "\n",
       "    .dataframe tbody tr th {\n",
       "        vertical-align: top;\n",
       "    }\n",
       "\n",
       "    .dataframe thead th {\n",
       "        text-align: right;\n",
       "    }\n",
       "</style>\n",
       "<table border=\"1\" class=\"dataframe\">\n",
       "  <thead>\n",
       "    <tr style=\"text-align: right;\">\n",
       "      <th></th>\n",
       "      <th>Client_Category</th>\n",
       "      <th>Solution_Type</th>\n",
       "      <th>Deal_Date</th>\n",
       "      <th>Sector</th>\n",
       "      <th>Location</th>\n",
       "      <th>VP_Name</th>\n",
       "      <th>Manager_Name</th>\n",
       "      <th>Deal_Cost</th>\n",
       "    </tr>\n",
       "  </thead>\n",
       "  <tbody>\n",
       "    <tr>\n",
       "      <th>6184</th>\n",
       "      <td>4</td>\n",
       "      <td>6.0</td>\n",
       "      <td>1053.0</td>\n",
       "      <td>18</td>\n",
       "      <td>1</td>\n",
       "      <td>8.0</td>\n",
       "      <td>260.0</td>\n",
       "      <td>1029411.77</td>\n",
       "    </tr>\n",
       "    <tr>\n",
       "      <th>7487</th>\n",
       "      <td>11</td>\n",
       "      <td>13.0</td>\n",
       "      <td>626.0</td>\n",
       "      <td>9</td>\n",
       "      <td>1</td>\n",
       "      <td>1.0</td>\n",
       "      <td>86.0</td>\n",
       "      <td>764705.88</td>\n",
       "    </tr>\n",
       "    <tr>\n",
       "      <th>6734</th>\n",
       "      <td>11</td>\n",
       "      <td>11.0</td>\n",
       "      <td>1098.0</td>\n",
       "      <td>3</td>\n",
       "      <td>4</td>\n",
       "      <td>9.0</td>\n",
       "      <td>37.0</td>\n",
       "      <td>132352.94</td>\n",
       "    </tr>\n",
       "    <tr>\n",
       "      <th>25</th>\n",
       "      <td>15</td>\n",
       "      <td>11.0</td>\n",
       "      <td>864.0</td>\n",
       "      <td>3</td>\n",
       "      <td>4</td>\n",
       "      <td>3.0</td>\n",
       "      <td>80.0</td>\n",
       "      <td>647058.82</td>\n",
       "    </tr>\n",
       "    <tr>\n",
       "      <th>4625</th>\n",
       "      <td>3</td>\n",
       "      <td>7.0</td>\n",
       "      <td>1874.0</td>\n",
       "      <td>1</td>\n",
       "      <td>1</td>\n",
       "      <td>11.0</td>\n",
       "      <td>48.0</td>\n",
       "      <td>370588.24</td>\n",
       "    </tr>\n",
       "    <tr>\n",
       "      <th>...</th>\n",
       "      <td>...</td>\n",
       "      <td>...</td>\n",
       "      <td>...</td>\n",
       "      <td>...</td>\n",
       "      <td>...</td>\n",
       "      <td>...</td>\n",
       "      <td>...</td>\n",
       "      <td>...</td>\n",
       "    </tr>\n",
       "    <tr>\n",
       "      <th>807</th>\n",
       "      <td>8</td>\n",
       "      <td>14.0</td>\n",
       "      <td>2053.0</td>\n",
       "      <td>7</td>\n",
       "      <td>2</td>\n",
       "      <td>3.0</td>\n",
       "      <td>55.0</td>\n",
       "      <td>1470.59</td>\n",
       "    </tr>\n",
       "    <tr>\n",
       "      <th>8703</th>\n",
       "      <td>15</td>\n",
       "      <td>11.0</td>\n",
       "      <td>1486.0</td>\n",
       "      <td>3</td>\n",
       "      <td>10</td>\n",
       "      <td>18.0</td>\n",
       "      <td>40.0</td>\n",
       "      <td>323529.41</td>\n",
       "    </tr>\n",
       "    <tr>\n",
       "      <th>333</th>\n",
       "      <td>1</td>\n",
       "      <td>16.0</td>\n",
       "      <td>1342.0</td>\n",
       "      <td>1</td>\n",
       "      <td>1</td>\n",
       "      <td>1.0</td>\n",
       "      <td>63.0</td>\n",
       "      <td>1215000.00</td>\n",
       "    </tr>\n",
       "    <tr>\n",
       "      <th>6808</th>\n",
       "      <td>12</td>\n",
       "      <td>3.0</td>\n",
       "      <td>43.0</td>\n",
       "      <td>3</td>\n",
       "      <td>2</td>\n",
       "      <td>23.0</td>\n",
       "      <td>97.0</td>\n",
       "      <td>441176.47</td>\n",
       "    </tr>\n",
       "    <tr>\n",
       "      <th>2239</th>\n",
       "      <td>18</td>\n",
       "      <td>9.0</td>\n",
       "      <td>1807.0</td>\n",
       "      <td>10</td>\n",
       "      <td>1</td>\n",
       "      <td>8.0</td>\n",
       "      <td>32.0</td>\n",
       "      <td>735294.12</td>\n",
       "    </tr>\n",
       "  </tbody>\n",
       "</table>\n",
       "<p>2923 rows × 8 columns</p>\n",
       "</div>"
      ],
      "text/plain": [
       "      Client_Category  Solution_Type  Deal_Date  Sector  Location  VP_Name  \\\n",
       "6184                4            6.0     1053.0      18         1      8.0   \n",
       "7487               11           13.0      626.0       9         1      1.0   \n",
       "6734               11           11.0     1098.0       3         4      9.0   \n",
       "25                 15           11.0      864.0       3         4      3.0   \n",
       "4625                3            7.0     1874.0       1         1     11.0   \n",
       "...               ...            ...        ...     ...       ...      ...   \n",
       "807                 8           14.0     2053.0       7         2      3.0   \n",
       "8703               15           11.0     1486.0       3        10     18.0   \n",
       "333                 1           16.0     1342.0       1         1      1.0   \n",
       "6808               12            3.0       43.0       3         2     23.0   \n",
       "2239               18            9.0     1807.0      10         1      8.0   \n",
       "\n",
       "      Manager_Name   Deal_Cost  \n",
       "6184         260.0  1029411.77  \n",
       "7487          86.0   764705.88  \n",
       "6734          37.0   132352.94  \n",
       "25            80.0   647058.82  \n",
       "4625          48.0   370588.24  \n",
       "...            ...         ...  \n",
       "807           55.0     1470.59  \n",
       "8703          40.0   323529.41  \n",
       "333           63.0  1215000.00  \n",
       "6808          97.0   441176.47  \n",
       "2239          32.0   735294.12  \n",
       "\n",
       "[2923 rows x 8 columns]"
      ]
     },
     "execution_count": 113,
     "metadata": {},
     "output_type": "execute_result"
    }
   ],
   "source": [
    "x_test"
   ]
  },
  {
   "cell_type": "code",
   "execution_count": 114,
   "id": "7eaea75b",
   "metadata": {},
   "outputs": [
    {
     "data": {
      "text/plain": [
       "6184    0\n",
       "7487    0\n",
       "6734    1\n",
       "25      1\n",
       "4625    1\n",
       "       ..\n",
       "807     1\n",
       "8703    0\n",
       "333     0\n",
       "6808    0\n",
       "2239    0\n",
       "Name: Deal_Status_Code, Length: 2923, dtype: object"
      ]
     },
     "execution_count": 114,
     "metadata": {},
     "output_type": "execute_result"
    }
   ],
   "source": [
    "y_test"
   ]
  },
  {
   "cell_type": "code",
   "execution_count": 115,
   "id": "42f32e43",
   "metadata": {},
   "outputs": [],
   "source": [
    "y_predicted = model.predict(x_test)"
   ]
  },
  {
   "cell_type": "code",
   "execution_count": 116,
   "id": "db5d9853",
   "metadata": {},
   "outputs": [
    {
     "data": {
      "text/plain": [
       "array(['0', '0', '0', ..., '0', '0', '0'], dtype=object)"
      ]
     },
     "execution_count": 116,
     "metadata": {},
     "output_type": "execute_result"
    }
   ],
   "source": [
    "y_predicted"
   ]
  },
  {
   "cell_type": "code",
   "execution_count": 117,
   "id": "0bdd8898",
   "metadata": {
    "scrolled": true
   },
   "outputs": [
    {
     "data": {
      "text/plain": [
       "array([[0.59405628, 0.40594372],\n",
       "       [0.55901566, 0.44098434],\n",
       "       [0.57966855, 0.42033145],\n",
       "       ...,\n",
       "       [0.61631239, 0.38368761],\n",
       "       [0.51189131, 0.48810869],\n",
       "       [0.63836093, 0.36163907]])"
      ]
     },
     "execution_count": 117,
     "metadata": {},
     "output_type": "execute_result"
    }
   ],
   "source": [
    "model.predict_proba(x_test)"
   ]
  },
  {
   "cell_type": "code",
   "execution_count": 119,
   "id": "a551beab",
   "metadata": {},
   "outputs": [
    {
     "data": {
      "text/plain": [
       "0.6140951077659939"
      ]
     },
     "execution_count": 119,
     "metadata": {},
     "output_type": "execute_result"
    }
   ],
   "source": [
    "model.score(x_test,y_test)"
   ]
  },
  {
   "cell_type": "code",
   "execution_count": 120,
   "id": "cb7ad8fb",
   "metadata": {},
   "outputs": [],
   "source": [
    "from sklearn.metrics import confusion_matrix"
   ]
  },
  {
   "cell_type": "code",
   "execution_count": 121,
   "id": "b9bb92b5",
   "metadata": {},
   "outputs": [
    {
     "data": {
      "text/plain": [
       "array([[1795,    0],\n",
       "       [1128,    0]], dtype=int64)"
      ]
     },
     "execution_count": 121,
     "metadata": {},
     "output_type": "execute_result"
    }
   ],
   "source": [
    "cf_matrix = confusion_matrix(y_test, y_predicted)         # obtaining the confusion matrix\n",
    "cf_matrix"
   ]
  },
  {
   "cell_type": "code",
   "execution_count": 122,
   "id": "9b321ede",
   "metadata": {},
   "outputs": [
    {
     "data": {
      "text/plain": [
       "array([1795,    0, 1128,    0], dtype=int64)"
      ]
     },
     "execution_count": 122,
     "metadata": {},
     "output_type": "execute_result"
    }
   ],
   "source": [
    "cf_matrix.flatten()"
   ]
  },
  {
   "cell_type": "code",
   "execution_count": 123,
   "id": "af5f5fa4",
   "metadata": {},
   "outputs": [
    {
     "data": {
      "text/plain": [
       "<AxesSubplot:>"
      ]
     },
     "execution_count": 123,
     "metadata": {},
     "output_type": "execute_result"
    },
    {
     "data": {
      "image/png": "[encoded data removed]",
      "text/plain": [
       "<Figure size 432x288 with 2 Axes>"
      ]
     },
     "metadata": {
      "needs_background": "light"
     },
     "output_type": "display_data"
    }
   ],
   "source": [
    "import numpy as np\n",
    "import seaborn as sns\n",
    "# preparing the labels\n",
    "labels = ['True Negative', 'False Positive', 'False Negative', 'True Positive']\n",
    "values = ['{0:0.0f}'.format(value) for value in cf_matrix.flatten()]\n",
    "annotations = [f'{v1}\\n{v2}' for v1, v2 in zip(labels, values)]\n",
    "annotations = np.asarray(annotations).reshape(2,2)\n",
    "axylabels = ['Actual Negative', 'Actual Positive']\n",
    "axxlabels = ['Predicted Negative', 'Predicted Positive']\n",
    "\n",
    "# plotting the heatmap\n",
    "sns.heatmap(cf_matrix, annot=annotations, fmt='', xticklabels=axxlabels, yticklabels=axylabels)"
   ]
  },
  {
   "cell_type": "code",
   "execution_count": 136,
   "id": "7375ab11",
   "metadata": {},
   "outputs": [
    {
     "name": "stdout",
     "output_type": "stream",
     "text": [
      "Accuracy: 61.41%\n"
     ]
    }
   ],
   "source": [
    "tn = cf_matrix.flatten()[0] # true negative\n",
    "fp = cf_matrix.flatten()[1] # false positive\n",
    "fn = cf_matrix.flatten()[2] # false negative\n",
    "tp = cf_matrix.flatten()[3] # true positive\n",
    "\n",
    "acc = ((tp+tn)/(tp+fn+tn+fp))*100 # accuracy\n",
    "\n",
    "\n",
    "print(str.format('Accuracy: {:.2f}%', acc))"
   ]
  },
  {
   "cell_type": "code",
   "execution_count": 125,
   "id": "c8d5a294",
   "metadata": {},
   "outputs": [
    {
     "data": {
      "text/plain": [
       "[<matplotlib.lines.Line2D at 0x2116a1ff6a0>]"
      ]
     },
     "execution_count": 125,
     "metadata": {},
     "output_type": "execute_result"
    },
    {
     "data": {
      "image/png": "[encoded data removed]",
      "text/plain": [
       "<Figure size 432x288 with 1 Axes>"
      ]
     },
     "metadata": {
      "needs_background": "light"
     },
     "output_type": "display_data"
    }
   ],
   "source": [
    "# plotting the  ROC curve\n",
    "from sklearn.metrics import plot_roc_curve\n",
    "plot_roc_curve(model, x_test, y_test)\n",
    "plt.plot([0,1], [0,1],'r--')"
   ]
  },
  {
   "cell_type": "markdown",
   "id": "7aef093c",
   "metadata": {},
   "source": [
    "## Random Forest"
   ]
  },
  {
   "cell_type": "code",
   "execution_count": 126,
   "id": "2b82af0c",
   "metadata": {},
   "outputs": [
    {
     "data": {
      "text/plain": [
       "RandomForestClassifier()"
      ]
     },
     "execution_count": 126,
     "metadata": {},
     "output_type": "execute_result"
    }
   ],
   "source": [
    "from sklearn.ensemble import RandomForestClassifier\n",
    "rf = RandomForestClassifier()\n",
    "rf.fit(x_train, y_train)"
   ]
  },
  {
   "cell_type": "code",
   "execution_count": 127,
   "id": "acaebc1a",
   "metadata": {},
   "outputs": [
    {
     "name": "stdout",
     "output_type": "stream",
     "text": [
      "Model Accuracy:0.77\n",
      "col_0      0    1\n",
      "Actual           \n",
      "0       1632  163\n",
      "1        518  610\n",
      "              precision    recall  f1-score   support\n",
      "\n",
      "           0       0.76      0.91      0.83      1795\n",
      "           1       0.79      0.54      0.64      1128\n",
      "\n",
      "    accuracy                           0.77      2923\n",
      "   macro avg       0.77      0.72      0.73      2923\n",
      "weighted avg       0.77      0.77      0.76      2923\n",
      "\n"
     ]
    }
   ],
   "source": [
    "y_hat =rf.predict(x_test)\n",
    "\n",
    "\n",
    "#Printing the Accuarcy, Confusion Matrix and the Classification Report\n",
    "from sklearn.metrics import confusion_matrix\n",
    "from sklearn.metrics import classification_report\n",
    "from sklearn.metrics import accuracy_score\n",
    "\n",
    "\n",
    "y_actu = pd.Series(y_test, name='Actual')\n",
    "df_confusion = pd.crosstab(y_actu, y_hat)\n",
    "acc = accuracy_score(y_test, y_hat, normalize=True)\n",
    "print('Model Accuracy:%.2f'%acc)\n",
    "print(df_confusion)\n",
    "print(classification_report(y_test,y_hat))"
   ]
  },
  {
   "cell_type": "code",
   "execution_count": 128,
   "id": "984d62d7",
   "metadata": {},
   "outputs": [],
   "source": [
    "y_pred = rf.predict(x_test)"
   ]
  },
  {
   "cell_type": "code",
   "execution_count": 129,
   "id": "f9947c2e",
   "metadata": {},
   "outputs": [
    {
     "data": {
      "text/plain": [
       "array(['0', '0', '1', ..., '0', '0', '0'], dtype=object)"
      ]
     },
     "execution_count": 129,
     "metadata": {},
     "output_type": "execute_result"
    }
   ],
   "source": [
    "y_pred"
   ]
  },
  {
   "cell_type": "code",
   "execution_count": 130,
   "id": "a69bd9a5",
   "metadata": {},
   "outputs": [],
   "source": [
    "x_test1 =x_test"
   ]
  },
  {
   "cell_type": "code",
   "execution_count": 131,
   "id": "3220c355",
   "metadata": {},
   "outputs": [
    {
     "data": {
      "text/html": [
       "<div>\n",
       "<style scoped>\n",
       "    .dataframe tbody tr th:only-of-type {\n",
       "        vertical-align: middle;\n",
       "    }\n",
       "\n",
       "    .dataframe tbody tr th {\n",
       "        vertical-align: top;\n",
       "    }\n",
       "\n",
       "    .dataframe thead th {\n",
       "        text-align: right;\n",
       "    }\n",
       "</style>\n",
       "<table border=\"1\" class=\"dataframe\">\n",
       "  <thead>\n",
       "    <tr style=\"text-align: right;\">\n",
       "      <th></th>\n",
       "      <th>Client_Category</th>\n",
       "      <th>Solution_Type</th>\n",
       "      <th>Deal_Date</th>\n",
       "      <th>Sector</th>\n",
       "      <th>Location</th>\n",
       "      <th>VP_Name</th>\n",
       "      <th>Manager_Name</th>\n",
       "      <th>Deal_Cost</th>\n",
       "    </tr>\n",
       "  </thead>\n",
       "  <tbody>\n",
       "    <tr>\n",
       "      <th>6184</th>\n",
       "      <td>4</td>\n",
       "      <td>6.0</td>\n",
       "      <td>1053.0</td>\n",
       "      <td>18</td>\n",
       "      <td>1</td>\n",
       "      <td>8.0</td>\n",
       "      <td>260.0</td>\n",
       "      <td>1029411.77</td>\n",
       "    </tr>\n",
       "    <tr>\n",
       "      <th>7487</th>\n",
       "      <td>11</td>\n",
       "      <td>13.0</td>\n",
       "      <td>626.0</td>\n",
       "      <td>9</td>\n",
       "      <td>1</td>\n",
       "      <td>1.0</td>\n",
       "      <td>86.0</td>\n",
       "      <td>764705.88</td>\n",
       "    </tr>\n",
       "    <tr>\n",
       "      <th>6734</th>\n",
       "      <td>11</td>\n",
       "      <td>11.0</td>\n",
       "      <td>1098.0</td>\n",
       "      <td>3</td>\n",
       "      <td>4</td>\n",
       "      <td>9.0</td>\n",
       "      <td>37.0</td>\n",
       "      <td>132352.94</td>\n",
       "    </tr>\n",
       "    <tr>\n",
       "      <th>25</th>\n",
       "      <td>15</td>\n",
       "      <td>11.0</td>\n",
       "      <td>864.0</td>\n",
       "      <td>3</td>\n",
       "      <td>4</td>\n",
       "      <td>3.0</td>\n",
       "      <td>80.0</td>\n",
       "      <td>647058.82</td>\n",
       "    </tr>\n",
       "    <tr>\n",
       "      <th>4625</th>\n",
       "      <td>3</td>\n",
       "      <td>7.0</td>\n",
       "      <td>1874.0</td>\n",
       "      <td>1</td>\n",
       "      <td>1</td>\n",
       "      <td>11.0</td>\n",
       "      <td>48.0</td>\n",
       "      <td>370588.24</td>\n",
       "    </tr>\n",
       "  </tbody>\n",
       "</table>\n",
       "</div>"
      ],
      "text/plain": [
       "      Client_Category  Solution_Type  Deal_Date  Sector  Location  VP_Name  \\\n",
       "6184                4            6.0     1053.0      18         1      8.0   \n",
       "7487               11           13.0      626.0       9         1      1.0   \n",
       "6734               11           11.0     1098.0       3         4      9.0   \n",
       "25                 15           11.0      864.0       3         4      3.0   \n",
       "4625                3            7.0     1874.0       1         1     11.0   \n",
       "\n",
       "      Manager_Name   Deal_Cost  \n",
       "6184         260.0  1029411.77  \n",
       "7487          86.0   764705.88  \n",
       "6734          37.0   132352.94  \n",
       "25            80.0   647058.82  \n",
       "4625          48.0   370588.24  "
      ]
     },
     "execution_count": 131,
     "metadata": {},
     "output_type": "execute_result"
    }
   ],
   "source": [
    "x_test1.head()"
   ]
  },
  {
   "cell_type": "code",
   "execution_count": 132,
   "id": "3d121283",
   "metadata": {},
   "outputs": [],
   "source": [
    "y_test1 = y_test"
   ]
  },
  {
   "cell_type": "code",
   "execution_count": 133,
   "id": "b113640d",
   "metadata": {},
   "outputs": [
    {
     "data": {
      "text/plain": [
       "6184    0\n",
       "7487    0\n",
       "6734    1\n",
       "25      1\n",
       "4625    1\n",
       "Name: Deal_Status_Code, dtype: object"
      ]
     },
     "execution_count": 133,
     "metadata": {},
     "output_type": "execute_result"
    }
   ],
   "source": [
    "y_test1.head()"
   ]
  },
  {
   "cell_type": "code",
   "execution_count": 134,
   "id": "06d0aa4d",
   "metadata": {},
   "outputs": [
    {
     "data": {
      "text/html": [
       "<div>\n",
       "<style scoped>\n",
       "    .dataframe tbody tr th:only-of-type {\n",
       "        vertical-align: middle;\n",
       "    }\n",
       "\n",
       "    .dataframe tbody tr th {\n",
       "        vertical-align: top;\n",
       "    }\n",
       "\n",
       "    .dataframe thead th {\n",
       "        text-align: right;\n",
       "    }\n",
       "</style>\n",
       "<table border=\"1\" class=\"dataframe\">\n",
       "  <thead>\n",
       "    <tr style=\"text-align: right;\">\n",
       "      <th></th>\n",
       "      <th>Client_Category</th>\n",
       "      <th>Solution_Type</th>\n",
       "      <th>Deal_Date</th>\n",
       "      <th>Sector</th>\n",
       "      <th>Location</th>\n",
       "      <th>VP_Name</th>\n",
       "      <th>Manager_Name</th>\n",
       "      <th>Deal_Cost</th>\n",
       "      <th>y_test1</th>\n",
       "    </tr>\n",
       "  </thead>\n",
       "  <tbody>\n",
       "    <tr>\n",
       "      <th>6184</th>\n",
       "      <td>4</td>\n",
       "      <td>6.0</td>\n",
       "      <td>1053.0</td>\n",
       "      <td>18</td>\n",
       "      <td>1</td>\n",
       "      <td>8.0</td>\n",
       "      <td>260.0</td>\n",
       "      <td>1029411.77</td>\n",
       "      <td>0</td>\n",
       "    </tr>\n",
       "    <tr>\n",
       "      <th>7487</th>\n",
       "      <td>11</td>\n",
       "      <td>13.0</td>\n",
       "      <td>626.0</td>\n",
       "      <td>9</td>\n",
       "      <td>1</td>\n",
       "      <td>1.0</td>\n",
       "      <td>86.0</td>\n",
       "      <td>764705.88</td>\n",
       "      <td>0</td>\n",
       "    </tr>\n",
       "    <tr>\n",
       "      <th>6734</th>\n",
       "      <td>11</td>\n",
       "      <td>11.0</td>\n",
       "      <td>1098.0</td>\n",
       "      <td>3</td>\n",
       "      <td>4</td>\n",
       "      <td>9.0</td>\n",
       "      <td>37.0</td>\n",
       "      <td>132352.94</td>\n",
       "      <td>1</td>\n",
       "    </tr>\n",
       "    <tr>\n",
       "      <th>25</th>\n",
       "      <td>15</td>\n",
       "      <td>11.0</td>\n",
       "      <td>864.0</td>\n",
       "      <td>3</td>\n",
       "      <td>4</td>\n",
       "      <td>3.0</td>\n",
       "      <td>80.0</td>\n",
       "      <td>647058.82</td>\n",
       "      <td>1</td>\n",
       "    </tr>\n",
       "    <tr>\n",
       "      <th>4625</th>\n",
       "      <td>3</td>\n",
       "      <td>7.0</td>\n",
       "      <td>1874.0</td>\n",
       "      <td>1</td>\n",
       "      <td>1</td>\n",
       "      <td>11.0</td>\n",
       "      <td>48.0</td>\n",
       "      <td>370588.24</td>\n",
       "      <td>1</td>\n",
       "    </tr>\n",
       "  </tbody>\n",
       "</table>\n",
       "</div>"
      ],
      "text/plain": [
       "      Client_Category  Solution_Type  Deal_Date  Sector  Location  VP_Name  \\\n",
       "6184                4            6.0     1053.0      18         1      8.0   \n",
       "7487               11           13.0      626.0       9         1      1.0   \n",
       "6734               11           11.0     1098.0       3         4      9.0   \n",
       "25                 15           11.0      864.0       3         4      3.0   \n",
       "4625                3            7.0     1874.0       1         1     11.0   \n",
       "\n",
       "      Manager_Name   Deal_Cost y_test1  \n",
       "6184         260.0  1029411.77       0  \n",
       "7487          86.0   764705.88       0  \n",
       "6734          37.0   132352.94       1  \n",
       "25            80.0   647058.82       1  \n",
       "4625          48.0   370588.24       1  "
      ]
     },
     "execution_count": 134,
     "metadata": {},
     "output_type": "execute_result"
    }
   ],
   "source": [
    "x_test1['y_test1']=y_test\n",
    "x_test1.head()"
   ]
  },
  {
   "cell_type": "code",
   "execution_count": 135,
   "id": "73e6d60a",
   "metadata": {},
   "outputs": [
    {
     "data": {
      "text/html": [
       "<div>\n",
       "<style scoped>\n",
       "    .dataframe tbody tr th:only-of-type {\n",
       "        vertical-align: middle;\n",
       "    }\n",
       "\n",
       "    .dataframe tbody tr th {\n",
       "        vertical-align: top;\n",
       "    }\n",
       "\n",
       "    .dataframe thead th {\n",
       "        text-align: right;\n",
       "    }\n",
       "</style>\n",
       "<table border=\"1\" class=\"dataframe\">\n",
       "  <thead>\n",
       "    <tr style=\"text-align: right;\">\n",
       "      <th></th>\n",
       "      <th>Client_Category</th>\n",
       "      <th>Solution_Type</th>\n",
       "      <th>Deal_Date</th>\n",
       "      <th>Sector</th>\n",
       "      <th>Location</th>\n",
       "      <th>VP_Name</th>\n",
       "      <th>Manager_Name</th>\n",
       "      <th>Deal_Cost</th>\n",
       "      <th>y_test1</th>\n",
       "      <th>y_pred1</th>\n",
       "    </tr>\n",
       "  </thead>\n",
       "  <tbody>\n",
       "    <tr>\n",
       "      <th>6184</th>\n",
       "      <td>4</td>\n",
       "      <td>6.0</td>\n",
       "      <td>1053.0</td>\n",
       "      <td>18</td>\n",
       "      <td>1</td>\n",
       "      <td>8.0</td>\n",
       "      <td>260.0</td>\n",
       "      <td>1029411.77</td>\n",
       "      <td>0</td>\n",
       "      <td>0</td>\n",
       "    </tr>\n",
       "    <tr>\n",
       "      <th>7487</th>\n",
       "      <td>11</td>\n",
       "      <td>13.0</td>\n",
       "      <td>626.0</td>\n",
       "      <td>9</td>\n",
       "      <td>1</td>\n",
       "      <td>1.0</td>\n",
       "      <td>86.0</td>\n",
       "      <td>764705.88</td>\n",
       "      <td>0</td>\n",
       "      <td>0</td>\n",
       "    </tr>\n",
       "    <tr>\n",
       "      <th>6734</th>\n",
       "      <td>11</td>\n",
       "      <td>11.0</td>\n",
       "      <td>1098.0</td>\n",
       "      <td>3</td>\n",
       "      <td>4</td>\n",
       "      <td>9.0</td>\n",
       "      <td>37.0</td>\n",
       "      <td>132352.94</td>\n",
       "      <td>1</td>\n",
       "      <td>1</td>\n",
       "    </tr>\n",
       "    <tr>\n",
       "      <th>25</th>\n",
       "      <td>15</td>\n",
       "      <td>11.0</td>\n",
       "      <td>864.0</td>\n",
       "      <td>3</td>\n",
       "      <td>4</td>\n",
       "      <td>3.0</td>\n",
       "      <td>80.0</td>\n",
       "      <td>647058.82</td>\n",
       "      <td>1</td>\n",
       "      <td>1</td>\n",
       "    </tr>\n",
       "    <tr>\n",
       "      <th>4625</th>\n",
       "      <td>3</td>\n",
       "      <td>7.0</td>\n",
       "      <td>1874.0</td>\n",
       "      <td>1</td>\n",
       "      <td>1</td>\n",
       "      <td>11.0</td>\n",
       "      <td>48.0</td>\n",
       "      <td>370588.24</td>\n",
       "      <td>1</td>\n",
       "      <td>1</td>\n",
       "    </tr>\n",
       "  </tbody>\n",
       "</table>\n",
       "</div>"
      ],
      "text/plain": [
       "      Client_Category  Solution_Type  Deal_Date  Sector  Location  VP_Name  \\\n",
       "6184                4            6.0     1053.0      18         1      8.0   \n",
       "7487               11           13.0      626.0       9         1      1.0   \n",
       "6734               11           11.0     1098.0       3         4      9.0   \n",
       "25                 15           11.0      864.0       3         4      3.0   \n",
       "4625                3            7.0     1874.0       1         1     11.0   \n",
       "\n",
       "      Manager_Name   Deal_Cost y_test1 y_pred1  \n",
       "6184         260.0  1029411.77       0       0  \n",
       "7487          86.0   764705.88       0       0  \n",
       "6734          37.0   132352.94       1       1  \n",
       "25            80.0   647058.82       1       1  \n",
       "4625          48.0   370588.24       1       1  "
      ]
     },
     "execution_count": 135,
     "metadata": {},
     "output_type": "execute_result"
    }
   ],
   "source": [
    "x_test1['y_pred1']=y_pred\n",
    "x_test1.head()"
   ]
  },
  {
   "cell_type": "code",
   "execution_count": null,
   "id": "3ba1f64e",
   "metadata": {},
   "outputs": [],
   "source": []
  }
 ],
 "metadata": {
  "kernelspec": {
   "display_name": "Python 3 (ipykernel)",
   "language": "python",
   "name": "python3"
  },
  "language_info": {
   "codemirror_mode": {
    "name": "ipython",
    "version": 3
   },
   "file_extension": ".py",
   "mimetype": "text/x-python",
   "name": "python",
   "nbconvert_exporter": "python",
   "pygments_lexer": "ipython3",
   "version": "3.9.12"
  }
 },
 "nbformat": 4,
 "nbformat_minor": 5
}
